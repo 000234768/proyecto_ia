{
  "nbformat": 4,
  "nbformat_minor": 0,
  "metadata": {
    "colab": {
      "provenance": [],
      "authorship_tag": "ABX9TyNI/BnaA7DyYULNLOswzZsf",
      "include_colab_link": true
    },
    "kernelspec": {
      "name": "python3",
      "display_name": "Python 3"
    },
    "language_info": {
      "name": "python"
    }
  },
  "cells": [
    {
      "cell_type": "markdown",
      "metadata": {
        "id": "view-in-github",
        "colab_type": "text"
      },
      "source": [
        "<a href=\"https://colab.research.google.com/github/000234768/proyecto_ia/blob/main/Proyecto_ia.ipynb\" target=\"_parent\"><img src=\"https://colab.research.google.com/assets/colab-badge.svg\" alt=\"Open In Colab\"/></a>"
      ]
    },
    {
      "cell_type": "markdown",
      "source": [
        "**METODOLOGIA: CRISP DM**\n",
        "\n",
        "1.*Comprensión del problema*"
      ],
      "metadata": {
        "id": "FKg-ORL0d8FA"
      }
    },
    {
      "cell_type": "markdown",
      "source": [
        "**Titulo:**\n",
        "*Detección Temprana de Ambliopía en Niños Utilizando Redes Neuronales Convolucionales en Lentes Inteligentes*"
      ],
      "metadata": {
        "id": "aWccBGSiV-8J"
      }
    },
    {
      "cell_type": "markdown",
      "source": [
        "Presentación del proyecto:\n",
        "La problemática abordada en este proyecto personal se centra en la detección temprana de la ambliopía, conocida comúnmente como \"ojo perezoso\", en niños. La ambliopía es una condición visual que puede afectar negativamente el desarrollo de la visión si no se trata a tiempo. Sin embargo, el acceso a exámenes oculares regulares y la detección temprana pueden ser un desafío en ciertas comunidades o áreas con recursos limitados.\n",
        "Para abordar esta problemática, se propone una solución innovadora utilizando lentes inteligentes equipados con redes neuronales convolucionales (CNN). Estas redes neuronales son especialmente adecuadas para el procesamiento de imágenes y el reconocimiento de patrones visuales.\n",
        "La posible solución consiste en desarrollar unos lentes inteligentes que permitan la detección continua y no invasiva de la ambliopía en niños. Estos lentes estarán equipados con cámaras de alta resolución y sensores oculares para capturar y analizar imágenes del entorno visual del niño. La información visual será procesada utilizando una arquitectura de red neuronal convolucional.\n",
        "La elección de las redes neuronales convolucionales se basa en su capacidad para extraer características relevantes de las imágenes y reconocer patrones visuales específicos. Al entrenar y ajustar la CNN específicamente para la detección de ambliopía, se podrán identificar desalineaciones o movimientos oculares atípicos que podrían ser indicativos de la presencia de la condición.\n",
        "El objetivo principal de este proyecto personal es brindar una solución accesible y efectiva para la detección temprana de la ambliopía en niños, sin la necesidad de que acudan constantemente al médico. Esto permitirá una intervención oportuna y un tratamiento adecuado, mejorando así el desarrollo visual y la calidad de vida de los niños afectados.\n",
        "En conclusion, mediante el uso de lentes inteligentes y la implementación de una arquitectura de red neuronal convolucional, se busca proporcionar una herramienta innovadora que facilite la detección temprana de la ambliopía. Al aprovechar la capacidad de las CNN para procesar imágenes y reconocer patrones visuales, este proyecto busca marcar la diferencia en la salud visual de los niños al proporcionar una solución accesible y efectiva para la detección temprana de esta condición visual.\n"
      ],
      "metadata": {
        "id": "i4qjLBIgVtTK"
      }
    },
    {
      "cell_type": "code",
      "execution_count": 21,
      "metadata": {
        "id": "UgDpSaPxVbBn"
      },
      "outputs": [],
      "source": [
        "import pandas as pd\n",
        "from sklearn.model_selection import train_test_split\n",
        "from sklearn.preprocessing import LabelEncoder\n",
        "from sklearn.ensemble import RandomForestClassifier\n",
        "from sklearn.metrics import accuracy_score\n",
        "\n",
        "url = \"https://raw.githubusercontent.com/000234768/proyecto_ia/main/tblATS5Enroll.csv\"  # URL DEL CSV\n",
        "\n",
        "df = pd.read_csv(url)\n",
        "\n",
        "\n"
      ]
    },
    {
      "cell_type": "markdown",
      "source": [
        "2.*Comprension de los datos*"
      ],
      "metadata": {
        "id": "9_JrYf8seR38"
      }
    },
    {
      "cell_type": "markdown",
      "source": [
        "Estudio de datos"
      ],
      "metadata": {
        "id": "HxC4lhy_Yn6T"
      }
    },
    {
      "cell_type": "code",
      "source": [
        "df.columns"
      ],
      "metadata": {
        "colab": {
          "base_uri": "https://localhost:8080/"
        },
        "id": "m4b40EU6XF3B",
        "outputId": "db068186-d6b7-4098-e58a-a04f05722040"
      },
      "execution_count": 22,
      "outputs": [
        {
          "output_type": "execute_result",
          "data": {
            "text/plain": [
              "Index(['PtID', 'VisitDt', 'Gender', 'Ethnicity', 'Race', 'HistoryDt',\n",
              "       'PrRxNone', 'PrRxPatS', 'PrRxPatG', 'PrRxAtrp', 'PrRxFogg', 'PrRxOth',\n",
              "       'PrRxOthDs', 'NoPrRx', 'NoPrSurg', 'NoCurVisTherOrth', 'NoAllergyAdh',\n",
              "       'HxSpecUse12Mo', 'SpecCur', 'HxSphOD', 'HxCylOD', 'HxAxisOD', 'HxSphOS',\n",
              "       'HxCylOS', 'HxAxisOS', 'CRTestDt', 'CRSphOD', 'CRCylOD', 'CRAxisOD',\n",
              "       'CRSphOS', 'CRCylOS', 'CRAxisOS', 'VATestDt', 'VAInstrBright',\n",
              "       'EVAMeasDist', 'EVACalibSize', 'VisAcuOD', 'VANoneOD', 'VASphOD',\n",
              "       'VACylOD', 'VAAxisOD', 'CycOD', 'VisAcuOS', 'VANoneOS', 'VASphOS',\n",
              "       'VACylOS', 'VAAxisOS', 'CycOS', 'ASOcuAlignDt', 'TropiaDi',\n",
              "       'TropiaHSizeDi', 'TropHTypeDi', 'TropiaVSizeDi', 'TropVTypeDi',\n",
              "       'TropiaNr', 'TropiaHSizeNr', 'TropHTypeNr', 'TropiaVSizeNr',\n",
              "       'TropVTypeNr', 'Krimsky', 'PrStrbSurg', 'StrbType', 'Nystagmus',\n",
              "       'OcuExamDt', 'AmbCrit', 'NoOcuCause', 'ParentUndProt', 'ParentHmPhone',\n",
              "       'ParentNoRelo', 'SpecClass', 'RxSphOD', 'RxCylOD', 'RxAxisOD',\n",
              "       'RxSphOS', 'RxCylOS', 'RxAxisOS'],\n",
              "      dtype='object')"
            ]
          },
          "metadata": {},
          "execution_count": 22
        }
      ]
    },
    {
      "cell_type": "markdown",
      "source": [
        "En el contexto de la detección temprana de ambliopía, utilizar datos específicos y relevantes es fundamental para desarrollar un modelo efectivo. A continuación se describen algunos datos y la razón por la cual sería necesario utilizarlos en el modelo:\n",
        "\n",
        "Género (Gender): La prevalencia de la ambliopía puede variar entre hombres y mujeres. Incluir el género como dato permitiría al modelo considerar posibles diferencias en la incidencia y manifestación de la enfermedad en ambos sexos.\n",
        "\n",
        "Historia de tratamiento previo de ambliopía (Prior amblyopia treatment): La información sobre tratamientos previos de ambliopía puede proporcionar importantes pistas sobre la presencia o recurrencia de la enfermedad. Esto permitiría al modelo evaluar si el paciente ha recibido tratamientos previos y cómo podrían influir en el diagnóstico y la detección de la ambliopía.\n",
        "\n",
        "Datos de refracción (sfera, cilindro, eje) (Sph, Cyl, Axis): Los errores refractivos, como la miopía, la hipermetropía o el astigmatismo, pueden estar relacionados con la ambliopía. Incluir datos de refracción permitiría al modelo considerar estos factores y evaluar cómo podrían contribuir al diagnóstico de la enfermedad.\n",
        "\n",
        "Agudeza visual (Visual acuity): La medición de la agudeza visual es esencial para evaluar la calidad de la visión y detectar posibles problemas de ambliopía. Incluir datos de agudeza visual permitiría al modelo utilizar esta información clave en su proceso de detección.\n",
        "\n",
        "Presencia de estrabismo (TropiaDi, TropiaHSizeDi, TropHTypeDi, TropiaVSizeDi, TropVTypeDi): El estrabismo, la desalineación de los ojos, es una condición común asociada con la ambliopía. Incluir datos relacionados con la presencia de estrabismo permitiría al modelo identificar esta condición y su posible relación con la ambliopía.\n",
        "\n",
        "Fecha del último examen ocular (OcuExamDt): La temporalidad de los datos es importante para evaluar la relevancia de los resultados. Incluir la fecha del último examen ocular permitiría al modelo considerar la información más actualizada y tener en cuenta los cambios en la condición del paciente a lo largo del tiempo.\n",
        "\n",
        "Datos relacionados con el uso de lentes (HxSpecUse12Mo, SpecCur, SpecClass, RxSphOD, RxCylOD, RxAxisOD, RxSphOS, RxCylOS, RxAxisOS): Los datos relacionados con los lentes, como la historia de uso, la prescripción actual y las características específicas de la corrección óptica, son relevantes para evaluar la función visual y la necesidad de tratamientos específicos. Incluir estos datos permitiría al modelo tener en cuenta el estado actual de la corrección óptica del paciente.\n",
        "\n",
        "utilizar datos específicos y relevantes en el modelo de detección de ambliopía proporcionaría información más completa y precisa para el diagnóstico y la detección temprana de la enfermedad. Estos datos permitirían al modelo considerar factores clave relacionados con la ambliopía, como el género, los tratamientos previos, los errores refractivos, la agudeza visual, el estrabismo, la temporalidad de los datos y el uso de lentes.\n"
      ],
      "metadata": {
        "id": "UJxBD38ukN1h"
      }
    },
    {
      "cell_type": "markdown",
      "source": [
        "3. *Preparación de los datos*"
      ],
      "metadata": {
        "id": "zaYmsG5Jk6A1"
      }
    },
    {
      "cell_type": "code",
      "source": [
        "# Obtener columnas con datos nulos\n",
        "columnas_con_nulos = data.columns[data.isnull().any()]\n",
        "\n",
        "# Mostrar las columnas con datos nulos\n",
        "print(columnas_con_nulos)\n"
      ],
      "metadata": {
        "colab": {
          "base_uri": "https://localhost:8080/"
        },
        "id": "y7InlNKCX3C8",
        "outputId": "8db21522-ceab-409b-8c38-5a781ea90a1e"
      },
      "execution_count": 23,
      "outputs": [
        {
          "output_type": "stream",
          "name": "stdout",
          "text": [
            "Index(['PrRxNone', 'PrRxPatS', 'PrRxPatG', 'PrRxAtrp', 'PrRxFogg', 'PrRxOth',\n",
            "       'PrRxOthDs', 'SpecCur', 'HxSphOD', 'HxCylOD', 'HxAxisOD', 'HxSphOS',\n",
            "       'HxCylOS', 'HxAxisOS', 'CRCylOD', 'CRAxisOD', 'CRCylOS', 'CRAxisOS',\n",
            "       'VANoneOD', 'VASphOD', 'VACylOD', 'VAAxisOD', 'CycOD', 'VANoneOS',\n",
            "       'VASphOS', 'VACylOS', 'VAAxisOS', 'CycOS', 'TropiaDi', 'TropiaHSizeDi',\n",
            "       'TropHTypeDi', 'TropiaVSizeDi', 'TropVTypeDi', 'TropiaNr',\n",
            "       'TropiaHSizeNr', 'TropHTypeNr', 'TropiaVSizeNr', 'TropVTypeNr',\n",
            "       'Krimsky', 'RxSphOD', 'RxCylOD', 'RxAxisOD', 'RxSphOS', 'RxCylOS',\n",
            "       'RxAxisOS'],\n",
            "      dtype='object')\n"
          ]
        }
      ]
    },
    {
      "cell_type": "code",
      "source": [
        "# Contar los valores nulos en cada columna\n",
        "total_nulos_por_columna = data.isnull().sum()\n",
        "\n",
        "# Mostrar el número de valores nulos por columna\n",
        "print(total_nulos_por_columna)\n"
      ],
      "metadata": {
        "colab": {
          "base_uri": "https://localhost:8080/"
        },
        "id": "qo3xv9TSbLoq",
        "outputId": "a3c77dcc-9012-420c-ed86-e59afbb74f86"
      },
      "execution_count": 24,
      "outputs": [
        {
          "output_type": "stream",
          "name": "stdout",
          "text": [
            "PtID           0\n",
            "VisitDt        0\n",
            "Gender         0\n",
            "Ethnicity      0\n",
            "Race           0\n",
            "            ... \n",
            "RxCylOD      175\n",
            "RxAxisOD     175\n",
            "RxSphOS       69\n",
            "RxCylOS      175\n",
            "RxAxisOS     175\n",
            "Length: 76, dtype: int64\n"
          ]
        }
      ]
    },
    {
      "cell_type": "markdown",
      "source": [
        "**¿Por qué no eliminar las columnas con datos nulos, acaso esas columnas son importantes?**"
      ],
      "metadata": {
        "id": "d8qM615Tca74"
      }
    },
    {
      "cell_type": "markdown",
      "source": [
        "'PrRxNone', 'PrRxPatS', 'PrRxPatG', 'PrRxAtrp', 'PrRxFogg', 'PrRxOth': Estas columnas parecen indican diferentes tipos de tratamientos previos para la ambliopía. Podrían proporcionar información sobre el historial de tratamiento de los pacientes.\n",
        "\n",
        "'SpecCur': Esta columna indica la duración del uso actual de los anteojos. Puede ser útil para evaluar si los pacientes han estado usando los anteojos correctamente y durante cuánto tiempo.\n",
        "\n",
        "'HxSphOD', 'HxCylOD', 'HxAxisOD', 'HxSphOS', 'HxCylOS', 'HxAxisOS': Estas columnas representan las correcciones de esfera, cilindro y eje para los ojos derecho e izquierdo en el historial. Proporcionan información sobre las características de la prescripción óptica previa.\n",
        "\n",
        "'CRCylOD', 'CRAxisOD', 'CRCylOS', 'CRAxisOS': Estas columnas representan el cilindro y el eje de la refracción ciclóplega (refracción realizada después de la administración de gotas ciclóplegas). Pueden ser útiles para evaluar la necesidad de corrección adicional en comparación con el historial de prescripción óptica.\n",
        "\n",
        "'VANoneOD', 'VASphOD', 'VACylOD', 'VAAxisOD', 'CycOD', 'VANoneOS', 'VASphOS', 'VACylOS', 'VAAxisOS', 'CycOS': Estas columnas representan la agudeza visual y la corrección utilizada para cada ojo, tanto en condiciones cíclopegas como no cíclopegas. Pueden ser útiles para evaluar la agudeza visual actual y el efecto de la corrección en los resultados visuales.\n",
        "\n",
        "'TropiaDi', 'TropiaHSizeDi', 'TropHTypeDi', 'TropiaVSizeDi', 'TropVTypeDi', 'TropiaNr', 'TropiaHSizeNr', 'TropHTypeNr', 'TropiaVSizeNr', 'TropVTypeNr': Estas columnas indican la presencia y características de la tropía (desviación ocular) en diferentes distancias y direcciones. Pueden proporcionar información sobre los problemas de alineación ocular de los pacientes.\n",
        "\n",
        "'Krimsky': Esta columna parece estar relacionada con la prueba de Krimsky utilizada para evaluar el alineamiento ocular. Puede ser útil para evaluar la desviación ocular y su magnitud.\n",
        "\n",
        "'RxSphOD', 'RxCylOD', 'RxAxisOD', 'RxSphOS', 'RxCylOS', 'RxAxisOS': Estas columnas representan la prescripción esférica, cilíndrica y el eje de la corrección óptica actual. Son útiles para conocer la prescripción actual de los pacientes."
      ],
      "metadata": {
        "id": "yfBGTC5NcSr2"
      }
    },
    {
      "cell_type": "markdown",
      "source": [
        "**Nota:**\n",
        "*Es importante resaltar que estos datos aunque contengan datos nulos son importantes para nuestro estudio, porque nos ayudaria a identificar mejor las señales de ampliopia en los ojos de nuestros pacientes*"
      ],
      "metadata": {
        "id": "YA8lvEz6c2T7"
      }
    },
    {
      "cell_type": "code",
      "source": [],
      "metadata": {
        "id": "GBTLZHOobTN6"
      },
      "execution_count": 12,
      "outputs": []
    }
  ]
}