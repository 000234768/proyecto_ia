{
  "nbformat": 4,
  "nbformat_minor": 0,
  "metadata": {
    "colab": {
      "provenance": [],
      "authorship_tag": "ABX9TyPCHzP930tkWPo9lTlL9HQ+",
      "include_colab_link": true
    },
    "kernelspec": {
      "name": "python3",
      "display_name": "Python 3"
    },
    "language_info": {
      "name": "python"
    }
  },
  "cells": [
    {
      "cell_type": "markdown",
      "metadata": {
        "id": "view-in-github",
        "colab_type": "text"
      },
      "source": [
        "<a href=\"https://colab.research.google.com/github/000234768/proyecto_ia/blob/main/Proyecto_ia.ipynb\" target=\"_parent\"><img src=\"https://colab.research.google.com/assets/colab-badge.svg\" alt=\"Open In Colab\"/></a>"
      ]
    },
    {
      "cell_type": "markdown",
      "source": [
        "**METODOLOGIA: CRISP DM**\n",
        "\n",
        "1.*Comprensión del problema*"
      ],
      "metadata": {
        "id": "FKg-ORL0d8FA"
      }
    },
    {
      "cell_type": "markdown",
      "source": [
        "**Titulo:**\n",
        "*Detección Temprana de Ambliopía en Niños Utilizando Redes Neuronales Convolucionales en Lentes Inteligentes*"
      ],
      "metadata": {
        "id": "aWccBGSiV-8J"
      }
    },
    {
      "cell_type": "markdown",
      "source": [
        "Presentación del proyecto:\n",
        "La problemática abordada en este proyecto personal se centra en la detección temprana de la ambliopía, conocida comúnmente como \"ojo perezoso\", en niños. La ambliopía es una condición visual que puede afectar negativamente el desarrollo de la visión si no se trata a tiempo. Sin embargo, el acceso a exámenes oculares regulares y la detección temprana pueden ser un desafío en ciertas comunidades o áreas con recursos limitados.\n",
        "Para abordar esta problemática, se propone una solución innovadora utilizando lentes inteligentes equipados con redes neuronales convolucionales (CNN). Estas redes neuronales son especialmente adecuadas para el procesamiento de imágenes y el reconocimiento de patrones visuales.\n",
        "La posible solución consiste en desarrollar unos lentes inteligentes que permitan la detección continua y no invasiva de la ambliopía en niños. Estos lentes estarán equipados con cámaras de alta resolución y sensores oculares para capturar y analizar imágenes del entorno visual del niño. La información visual será procesada utilizando una arquitectura de red neuronal convolucional.\n",
        "La elección de las redes neuronales convolucionales se basa en su capacidad para extraer características relevantes de las imágenes y reconocer patrones visuales específicos. Al entrenar y ajustar la CNN específicamente para la detección de ambliopía, se podrán identificar desalineaciones o movimientos oculares atípicos que podrían ser indicativos de la presencia de la condición.\n",
        "El objetivo principal de este proyecto personal es brindar una solución accesible y efectiva para la detección temprana de la ambliopía en niños, sin la necesidad de que acudan constantemente al médico. Esto permitirá una intervención oportuna y un tratamiento adecuado, mejorando así el desarrollo visual y la calidad de vida de los niños afectados.\n",
        "En conclusion, mediante el uso de lentes inteligentes y la implementación de una arquitectura de red neuronal convolucional, se busca proporcionar una herramienta innovadora que facilite la detección temprana de la ambliopía. Al aprovechar la capacidad de las CNN para procesar imágenes y reconocer patrones visuales, este proyecto busca marcar la diferencia en la salud visual de los niños al proporcionar una solución accesible y efectiva para la detección temprana de esta condición visual.\n"
      ],
      "metadata": {
        "id": "i4qjLBIgVtTK"
      }
    },
    {
      "cell_type": "code",
      "execution_count": 2,
      "metadata": {
        "id": "UgDpSaPxVbBn"
      },
      "outputs": [],
      "source": [
        "import pandas as pd\n",
        "from sklearn.model_selection import train_test_split\n",
        "from sklearn.preprocessing import LabelEncoder\n",
        "from sklearn.ensemble import RandomForestClassifier\n",
        "from sklearn.metrics import accuracy_score\n",
        "from sklearn.preprocessing import MinMaxScaler\n",
        "from tensorflow.keras.models import Sequential\n",
        "from tensorflow.keras.layers import Dense\n",
        "from tensorflow.keras.optimizers import Adam\n",
        "from tensorflow.keras.metrics import MeanSquaredError, MeanAbsoluteError\n",
        "\n",
        "\n",
        "url = \"https://raw.githubusercontent.com/000234768/proyecto_ia/main/tblATS5Enroll.csv\"  # URL DEL CSV\n",
        "\n",
        "df = pd.read_csv(url)\n",
        "\n",
        "\n"
      ]
    },
    {
      "cell_type": "markdown",
      "source": [
        "2.*Comprension de los datos*"
      ],
      "metadata": {
        "id": "9_JrYf8seR38"
      }
    },
    {
      "cell_type": "markdown",
      "source": [
        "Estudio de datos"
      ],
      "metadata": {
        "id": "HxC4lhy_Yn6T"
      }
    },
    {
      "cell_type": "code",
      "source": [
        "df.columns"
      ],
      "metadata": {
        "colab": {
          "base_uri": "https://localhost:8080/"
        },
        "id": "m4b40EU6XF3B",
        "outputId": "8ab87137-5194-498c-c030-f4830d6a46d0"
      },
      "execution_count": 3,
      "outputs": [
        {
          "output_type": "execute_result",
          "data": {
            "text/plain": [
              "Index(['PtID', 'VisitDt', 'Gender', 'Ethnicity', 'Race', 'HistoryDt',\n",
              "       'PrRxNone', 'PrRxPatS', 'PrRxPatG', 'PrRxAtrp', 'PrRxFogg', 'PrRxOth',\n",
              "       'PrRxOthDs', 'NoPrRx', 'NoPrSurg', 'NoCurVisTherOrth', 'NoAllergyAdh',\n",
              "       'HxSpecUse12Mo', 'SpecCur', 'HxSphOD', 'HxCylOD', 'HxAxisOD', 'HxSphOS',\n",
              "       'HxCylOS', 'HxAxisOS', 'CRTestDt', 'CRSphOD', 'CRCylOD', 'CRAxisOD',\n",
              "       'CRSphOS', 'CRCylOS', 'CRAxisOS', 'VATestDt', 'VAInstrBright',\n",
              "       'EVAMeasDist', 'EVACalibSize', 'VisAcuOD', 'VANoneOD', 'VASphOD',\n",
              "       'VACylOD', 'VAAxisOD', 'CycOD', 'VisAcuOS', 'VANoneOS', 'VASphOS',\n",
              "       'VACylOS', 'VAAxisOS', 'CycOS', 'ASOcuAlignDt', 'TropiaDi',\n",
              "       'TropiaHSizeDi', 'TropHTypeDi', 'TropiaVSizeDi', 'TropVTypeDi',\n",
              "       'TropiaNr', 'TropiaHSizeNr', 'TropHTypeNr', 'TropiaVSizeNr',\n",
              "       'TropVTypeNr', 'Krimsky', 'PrStrbSurg', 'StrbType', 'Nystagmus',\n",
              "       'OcuExamDt', 'AmbCrit', 'NoOcuCause', 'ParentUndProt', 'ParentHmPhone',\n",
              "       'ParentNoRelo', 'SpecClass', 'RxSphOD', 'RxCylOD', 'RxAxisOD',\n",
              "       'RxSphOS', 'RxCylOS', 'RxAxisOS'],\n",
              "      dtype='object')"
            ]
          },
          "metadata": {},
          "execution_count": 3
        }
      ]
    },
    {
      "cell_type": "markdown",
      "source": [
        "En el contexto de la detección temprana de ambliopía, utilizar datos específicos y relevantes es fundamental para desarrollar un modelo efectivo. A continuación se describen algunos datos y la razón por la cual sería necesario utilizarlos en el modelo:\n",
        "\n",
        "Género (Gender): La prevalencia de la ambliopía puede variar entre hombres y mujeres. Incluir el género como dato permitiría al modelo considerar posibles diferencias en la incidencia y manifestación de la enfermedad en ambos sexos.\n",
        "\n",
        "Historia de tratamiento previo de ambliopía (Prior amblyopia treatment): La información sobre tratamientos previos de ambliopía puede proporcionar importantes pistas sobre la presencia o recurrencia de la enfermedad. Esto permitiría al modelo evaluar si el paciente ha recibido tratamientos previos y cómo podrían influir en el diagnóstico y la detección de la ambliopía.\n",
        "\n",
        "Datos de refracción (sfera, cilindro, eje) (Sph, Cyl, Axis): Los errores refractivos, como la miopía, la hipermetropía o el astigmatismo, pueden estar relacionados con la ambliopía. Incluir datos de refracción permitiría al modelo considerar estos factores y evaluar cómo podrían contribuir al diagnóstico de la enfermedad.\n",
        "\n",
        "Agudeza visual (Visual acuity): La medición de la agudeza visual es esencial para evaluar la calidad de la visión y detectar posibles problemas de ambliopía. Incluir datos de agudeza visual permitiría al modelo utilizar esta información clave en su proceso de detección.\n",
        "\n",
        "Presencia de estrabismo (TropiaDi, TropiaHSizeDi, TropHTypeDi, TropiaVSizeDi, TropVTypeDi): El estrabismo, la desalineación de los ojos, es una condición común asociada con la ambliopía. Incluir datos relacionados con la presencia de estrabismo permitiría al modelo identificar esta condición y su posible relación con la ambliopía.\n",
        "\n",
        "Fecha del último examen ocular (OcuExamDt): La temporalidad de los datos es importante para evaluar la relevancia de los resultados. Incluir la fecha del último examen ocular permitiría al modelo considerar la información más actualizada y tener en cuenta los cambios en la condición del paciente a lo largo del tiempo.\n",
        "\n",
        "Datos relacionados con el uso de lentes (HxSpecUse12Mo, SpecCur, SpecClass, RxSphOD, RxCylOD, RxAxisOD, RxSphOS, RxCylOS, RxAxisOS): Los datos relacionados con los lentes, como la historia de uso, la prescripción actual y las características específicas de la corrección óptica, son relevantes para evaluar la función visual y la necesidad de tratamientos específicos. Incluir estos datos permitiría al modelo tener en cuenta el estado actual de la corrección óptica del paciente.\n",
        "\n",
        "utilizar datos específicos y relevantes en el modelo de detección de ambliopía proporcionaría información más completa y precisa para el diagnóstico y la detección temprana de la enfermedad. Estos datos permitirían al modelo considerar factores clave relacionados con la ambliopía, como el género, los tratamientos previos, los errores refractivos, la agudeza visual, el estrabismo, la temporalidad de los datos y el uso de lentes.\n"
      ],
      "metadata": {
        "id": "UJxBD38ukN1h"
      }
    },
    {
      "cell_type": "markdown",
      "source": [
        "3. *Preparación de los datos*"
      ],
      "metadata": {
        "id": "zaYmsG5Jk6A1"
      }
    },
    {
      "cell_type": "code",
      "source": [
        "# Obtener columnas con datos nulos\n",
        "columnas_con_nulos = df.columns[df.isnull().any()]\n",
        "\n",
        "# Mostrar las columnas con datos nulos\n",
        "print(columnas_con_nulos)\n"
      ],
      "metadata": {
        "colab": {
          "base_uri": "https://localhost:8080/"
        },
        "id": "y7InlNKCX3C8",
        "outputId": "0cc9571e-da86-4d2c-9731-37271709cdc4"
      },
      "execution_count": 5,
      "outputs": [
        {
          "output_type": "stream",
          "name": "stdout",
          "text": [
            "Index(['PrRxNone', 'PrRxPatS', 'PrRxPatG', 'PrRxAtrp', 'PrRxFogg', 'PrRxOth',\n",
            "       'PrRxOthDs', 'SpecCur', 'HxSphOD', 'HxCylOD', 'HxAxisOD', 'HxSphOS',\n",
            "       'HxCylOS', 'HxAxisOS', 'CRCylOD', 'CRAxisOD', 'CRCylOS', 'CRAxisOS',\n",
            "       'VANoneOD', 'VASphOD', 'VACylOD', 'VAAxisOD', 'CycOD', 'VANoneOS',\n",
            "       'VASphOS', 'VACylOS', 'VAAxisOS', 'CycOS', 'TropiaDi', 'TropiaHSizeDi',\n",
            "       'TropHTypeDi', 'TropiaVSizeDi', 'TropVTypeDi', 'TropiaNr',\n",
            "       'TropiaHSizeNr', 'TropHTypeNr', 'TropiaVSizeNr', 'TropVTypeNr',\n",
            "       'Krimsky', 'RxSphOD', 'RxCylOD', 'RxAxisOD', 'RxSphOS', 'RxCylOS',\n",
            "       'RxAxisOS'],\n",
            "      dtype='object')\n"
          ]
        }
      ]
    },
    {
      "cell_type": "code",
      "source": [
        "# Contar los valores nulos en cada columna\n",
        "total_nulos_por_columna = df.isnull().sum()\n",
        "\n",
        "# Mostrar el número de valores nulos por columna\n",
        "print(total_nulos_por_columna)\n"
      ],
      "metadata": {
        "colab": {
          "base_uri": "https://localhost:8080/"
        },
        "id": "qo3xv9TSbLoq",
        "outputId": "18927b92-36b8-4615-d948-47ac79a286c0"
      },
      "execution_count": 7,
      "outputs": [
        {
          "output_type": "stream",
          "name": "stdout",
          "text": [
            "PtID           0\n",
            "VisitDt        0\n",
            "Gender         0\n",
            "Ethnicity      0\n",
            "Race           0\n",
            "            ... \n",
            "RxCylOD      175\n",
            "RxAxisOD     175\n",
            "RxSphOS       69\n",
            "RxCylOS      175\n",
            "RxAxisOS     175\n",
            "Length: 76, dtype: int64\n"
          ]
        }
      ]
    },
    {
      "cell_type": "markdown",
      "source": [
        "**¿Por qué no eliminar las columnas con datos nulos, acaso esas columnas son importantes?**"
      ],
      "metadata": {
        "id": "d8qM615Tca74"
      }
    },
    {
      "cell_type": "markdown",
      "source": [
        "'PrRxNone', 'PrRxPatS', 'PrRxPatG', 'PrRxAtrp', 'PrRxFogg', 'PrRxOth': Estas columnas parecen indican diferentes tipos de tratamientos previos para la ambliopía. Podrían proporcionar información sobre el historial de tratamiento de los pacientes.\n",
        "\n",
        "'SpecCur': Esta columna indica la duración del uso actual de los anteojos. Puede ser útil para evaluar si los pacientes han estado usando los anteojos correctamente y durante cuánto tiempo.\n",
        "\n",
        "'HxSphOD', 'HxCylOD', 'HxAxisOD', 'HxSphOS', 'HxCylOS', 'HxAxisOS': Estas columnas representan las correcciones de esfera, cilindro y eje para los ojos derecho e izquierdo en el historial. Proporcionan información sobre las características de la prescripción óptica previa.\n",
        "\n",
        "'CRCylOD', 'CRAxisOD', 'CRCylOS', 'CRAxisOS': Estas columnas representan el cilindro y el eje de la refracción ciclóplega (refracción realizada después de la administración de gotas ciclóplegas). Pueden ser útiles para evaluar la necesidad de corrección adicional en comparación con el historial de prescripción óptica.\n",
        "\n",
        "'VANoneOD', 'VASphOD', 'VACylOD', 'VAAxisOD', 'CycOD', 'VANoneOS', 'VASphOS', 'VACylOS', 'VAAxisOS', 'CycOS': Estas columnas representan la agudeza visual y la corrección utilizada para cada ojo, tanto en condiciones cíclopegas como no cíclopegas. Pueden ser útiles para evaluar la agudeza visual actual y el efecto de la corrección en los resultados visuales.\n",
        "\n",
        "'TropiaDi', 'TropiaHSizeDi', 'TropHTypeDi', 'TropiaVSizeDi', 'TropVTypeDi', 'TropiaNr', 'TropiaHSizeNr', 'TropHTypeNr', 'TropiaVSizeNr', 'TropVTypeNr': Estas columnas indican la presencia y características de la tropía (desviación ocular) en diferentes distancias y direcciones. Pueden proporcionar información sobre los problemas de alineación ocular de los pacientes.\n",
        "\n",
        "'Krimsky': Esta columna parece estar relacionada con la prueba de Krimsky utilizada para evaluar el alineamiento ocular. Puede ser útil para evaluar la desviación ocular y su magnitud.\n",
        "\n",
        "'RxSphOD', 'RxCylOD', 'RxAxisOD', 'RxSphOS', 'RxCylOS', 'RxAxisOS': Estas columnas representan la prescripción esférica, cilíndrica y el eje de la corrección óptica actual. Son útiles para conocer la prescripción actual de los pacientes."
      ],
      "metadata": {
        "id": "yfBGTC5NcSr2"
      }
    },
    {
      "cell_type": "markdown",
      "source": [
        "**Nota:**\n",
        "*Es importante resaltar que estos datos aunque contengan datos nulos son importantes para nuestro estudio, porque nos ayudaria a identificar mejor las señales de ampliopia en los ojos de nuestros pacientes*"
      ],
      "metadata": {
        "id": "YA8lvEz6c2T7"
      }
    },
    {
      "cell_type": "code",
      "source": [
        "# Seleccionar las columnas relevantes\n",
        "relevant_columns = ['Gender', 'Ethnicity', 'Race', 'HxSphOD', 'HxCylOD', 'HxAxisOD', 'HxSphOS', 'HxCylOS', 'HxAxisOS', 'VisAcuOD', 'VisAcuOS']\n",
        "selected_data = df[relevant_columns]"
      ],
      "metadata": {
        "id": "bf7Qc-4sny-D"
      },
      "execution_count": 8,
      "outputs": []
    },
    {
      "cell_type": "code",
      "source": [
        "# Función de conversión de fracción a decimal\n",
        "def fraction_to_decimal(value):\n",
        "    try:\n",
        "        return float(value)\n",
        "    except ValueError:\n",
        "        parts = value.split('/')\n",
        "        if len(parts) == 2:\n",
        "            numerator = float(parts[0])\n",
        "            denominator = float(parts[1])\n",
        "            return numerator / denominator\n",
        "        else:\n",
        "            return None"
      ],
      "metadata": {
        "id": "WSYPDFUYrck1"
      },
      "execution_count": 9,
      "outputs": []
    },
    {
      "cell_type": "code",
      "source": [
        "# Aplicar la conversión a las columnas de agudeza visual\n",
        "selected_data['VisAcuOD'] = selected_data['VisAcuOD'].apply(fraction_to_decimal)\n",
        "selected_data['VisAcuOS'] = selected_data['VisAcuOS'].apply(fraction_to_decimal)\n",
        "\n",
        "# Eliminar filas con valores nulos después de la conversión\n",
        "selected_data = selected_data.dropna()"
      ],
      "metadata": {
        "colab": {
          "base_uri": "https://localhost:8080/"
        },
        "id": "RRw23MhBq-ZH",
        "outputId": "ead4f12a-b3bc-4bf2-d658-b1282549fb8b"
      },
      "execution_count": 10,
      "outputs": [
        {
          "output_type": "stream",
          "name": "stderr",
          "text": [
            "<ipython-input-10-88f7e501b307>:2: SettingWithCopyWarning: \n",
            "A value is trying to be set on a copy of a slice from a DataFrame.\n",
            "Try using .loc[row_indexer,col_indexer] = value instead\n",
            "\n",
            "See the caveats in the documentation: https://pandas.pydata.org/pandas-docs/stable/user_guide/indexing.html#returning-a-view-versus-a-copy\n",
            "  selected_data['VisAcuOD'] = selected_data['VisAcuOD'].apply(fraction_to_decimal)\n",
            "<ipython-input-10-88f7e501b307>:3: SettingWithCopyWarning: \n",
            "A value is trying to be set on a copy of a slice from a DataFrame.\n",
            "Try using .loc[row_indexer,col_indexer] = value instead\n",
            "\n",
            "See the caveats in the documentation: https://pandas.pydata.org/pandas-docs/stable/user_guide/indexing.html#returning-a-view-versus-a-copy\n",
            "  selected_data['VisAcuOS'] = selected_data['VisAcuOS'].apply(fraction_to_decimal)\n"
          ]
        }
      ]
    },
    {
      "cell_type": "code",
      "source": [
        "# Separar las características y las etiquetas\n",
        "features = selected_data[['Gender', 'Ethnicity', 'Race', 'HxSphOD', 'HxCylOD', 'HxAxisOD', 'HxSphOS', 'HxCylOS', 'HxAxisOS']]\n",
        "labels = selected_data[['VisAcuOD', 'VisAcuOS']]\n"
      ],
      "metadata": {
        "id": "41ioj8Biuzhf"
      },
      "execution_count": 14,
      "outputs": []
    },
    {
      "cell_type": "code",
      "source": [
        "# Codificar las características categóricas\n",
        "encoder = LabelEncoder()\n",
        "for column in features.columns:\n",
        "    if features[column].dtype == 'object':\n",
        "        features[column] = encoder.fit_transform(features[column])\n",
        "\n",
        "# Dividir los datos en conjuntos de entrenamiento y prueba\n",
        "X_train, X_test, y_train, y_test = train_test_split(features, labels, test_size=0.2, random_state=42)\n",
        "\n",
        "# Normalizar los datos\n",
        "scaler = MinMaxScaler()\n",
        "X_train = scaler.fit_transform(X_train)\n",
        "X_test = scaler.transform(X_test)\n",
        "\n",
        "# Construir el modelo de la red neuronal\n",
        "model = Sequential()\n",
        "model.add(Dense(64, activation='relu', input_shape=(9,)))\n",
        "model.add(Dense(32, activation='relu'))\n",
        "model.add(Dense(2))\n",
        "\n",
        "# Compilar y entrenar el modelo\n",
        "model.compile(optimizer=Adam(), loss='mse', metrics=[MeanSquaredError(), MeanAbsoluteError()])\n",
        "history = model.fit(X_train, y_train, epochs=10, batch_size=32, validation_data=(X_test, y_test))\n",
        "\n",
        "# Evaluar el modelo en el conjunto de prueba\n",
        "loss, mse, mae = model.evaluate(X_test, y_test)\n",
        "print(\"Mean Squared Error:\", mse)\n",
        "print(\"Mean Absolute Error:\", mae)\n"
      ],
      "metadata": {
        "colab": {
          "base_uri": "https://localhost:8080/"
        },
        "id": "2pdhvzeWsBkm",
        "outputId": "89fb7be8-862e-4d01-91f5-1a0d88e6c6b2"
      },
      "execution_count": 19,
      "outputs": [
        {
          "output_type": "stream",
          "name": "stdout",
          "text": [
            "Epoch 1/10\n",
            "2/2 [==============================] - 1s 454ms/step - loss: 0.3233 - mean_squared_error: 0.3233 - mean_absolute_error: 0.4748 - val_loss: 0.1944 - val_mean_squared_error: 0.1944 - val_mean_absolute_error: 0.3575\n",
            "Epoch 2/10\n",
            "2/2 [==============================] - 0s 38ms/step - loss: 0.2557 - mean_squared_error: 0.2557 - mean_absolute_error: 0.4087 - val_loss: 0.1403 - val_mean_squared_error: 0.1403 - val_mean_absolute_error: 0.3016\n",
            "Epoch 3/10\n",
            "2/2 [==============================] - 0s 57ms/step - loss: 0.2009 - mean_squared_error: 0.2009 - mean_absolute_error: 0.3558 - val_loss: 0.1043 - val_mean_squared_error: 0.1043 - val_mean_absolute_error: 0.2629\n",
            "Epoch 4/10\n",
            "2/2 [==============================] - 0s 56ms/step - loss: 0.1586 - mean_squared_error: 0.1586 - mean_absolute_error: 0.3168 - val_loss: 0.0840 - val_mean_squared_error: 0.0840 - val_mean_absolute_error: 0.2429\n",
            "Epoch 5/10\n",
            "2/2 [==============================] - 0s 53ms/step - loss: 0.1309 - mean_squared_error: 0.1309 - mean_absolute_error: 0.2917 - val_loss: 0.0787 - val_mean_squared_error: 0.0787 - val_mean_absolute_error: 0.2374\n",
            "Epoch 6/10\n",
            "2/2 [==============================] - 0s 36ms/step - loss: 0.1139 - mean_squared_error: 0.1139 - mean_absolute_error: 0.2773 - val_loss: 0.0852 - val_mean_squared_error: 0.0852 - val_mean_absolute_error: 0.2511\n",
            "Epoch 7/10\n",
            "2/2 [==============================] - 0s 41ms/step - loss: 0.1076 - mean_squared_error: 0.1076 - mean_absolute_error: 0.2766 - val_loss: 0.1000 - val_mean_squared_error: 0.1000 - val_mean_absolute_error: 0.2691\n",
            "Epoch 8/10\n",
            "2/2 [==============================] - 0s 36ms/step - loss: 0.1070 - mean_squared_error: 0.1070 - mean_absolute_error: 0.2775 - val_loss: 0.1172 - val_mean_squared_error: 0.1172 - val_mean_absolute_error: 0.2877\n",
            "Epoch 9/10\n",
            "2/2 [==============================] - 0s 35ms/step - loss: 0.1086 - mean_squared_error: 0.1086 - mean_absolute_error: 0.2792 - val_loss: 0.1305 - val_mean_squared_error: 0.1305 - val_mean_absolute_error: 0.3029\n",
            "Epoch 10/10\n",
            "2/2 [==============================] - 0s 55ms/step - loss: 0.1101 - mean_squared_error: 0.1101 - mean_absolute_error: 0.2809 - val_loss: 0.1368 - val_mean_squared_error: 0.1368 - val_mean_absolute_error: 0.3108\n",
            "1/1 [==============================] - 0s 32ms/step - loss: 0.1368 - mean_squared_error: 0.1368 - mean_absolute_error: 0.3108\n",
            "Mean Squared Error: 0.13676942884922028\n",
            "Mean Absolute Error: 0.31077030301094055\n"
          ]
        }
      ]
    },
    {
      "cell_type": "code",
      "source": [
        "# Obtener las métricas de entrenamiento\n",
        "train_mse = history.history['mean_squared_error']\n",
        "train_mae = history.history['mean_absolute_error']\n",
        "val_mse = history.history['val_mean_squared_error']\n",
        "val_mae = history.history['val_mean_absolute_error']\n",
        "\n",
        "\n",
        "\n"
      ],
      "metadata": {
        "id": "I4wtB3ofuL0h"
      },
      "execution_count": 20,
      "outputs": []
    },
    {
      "cell_type": "code",
      "source": [
        "# Crear gráfico de curva de aprendizaje para MSE\n",
        "import matplotlib.pyplot as plt\n",
        "\n",
        "epochs = len(train_mse)\n",
        "plt.plot(range(1, epochs + 1), train_mse, label='Train MSE')\n",
        "plt.plot(range(1, epochs + 1), val_mse, label='Validation MSE')\n",
        "plt.title('Curva de Aprendizaje - MSE')\n",
        "plt.xlabel('Epochs')\n",
        "plt.ylabel('MSE')\n",
        "plt.legend()\n",
        "plt.show()\n"
      ],
      "metadata": {
        "colab": {
          "base_uri": "https://localhost:8080/",
          "height": 472
        },
        "id": "no_nErwr1Gt1",
        "outputId": "1611548e-16bb-478d-c218-f067a4233154"
      },
      "execution_count": 23,
      "outputs": [
        {
          "output_type": "display_data",
          "data": {
            "text/plain": [
              "<Figure size 640x480 with 1 Axes>"
            ],
            "image/png": "[encoded data removed]"
          },
          "metadata": {}
        }
      ]
    },
    {
      "cell_type": "code",
      "source": [
        "# Crear gráfico de curva de aprendizaje para MAE\n",
        "plt.plot(range(1, epochs + 1), train_mae, label='Train MAE')\n",
        "plt.plot(range(1, epochs + 1), val_mae, label='Validation MAE')\n",
        "plt.title('Curva de Aprendizaje - MAE')\n",
        "plt.xlabel('Epochs')\n",
        "plt.ylabel('MAE')\n",
        "plt.legend()\n",
        "plt.show()\n",
        "\n",
        "# Evaluar el modelo en el conjunto de prueba\n",
        "loss, mse, mae = model.evaluate(X_test, y_test)\n",
        "print(\"Mean Squared Error:\", mse)\n",
        "print(\"Mean Absolute Error:\", mae)\n"
      ],
      "metadata": {
        "id": "Dwz4wmYr1LhG",
        "colab": {
          "base_uri": "https://localhost:8080/",
          "height": 524
        },
        "outputId": "bb1508d7-05d9-47a0-bd94-d246e6104d2e"
      },
      "execution_count": 24,
      "outputs": [
        {
          "output_type": "display_data",
          "data": {
            "text/plain": [
              "<Figure size 640x480 with 1 Axes>"
            ],
            "image/png": "[encoded data removed]"
          },
          "metadata": {}
        },
        {
          "output_type": "stream",
          "name": "stdout",
          "text": [
            "1/1 [==============================] - 0s 49ms/step - loss: 0.1368 - mean_squared_error: 0.1368 - mean_absolute_error: 0.3108\n",
            "Mean Squared Error: 0.13676942884922028\n",
            "Mean Absolute Error: 0.31077030301094055\n"
          ]
        }
      ]
    },
    {
      "cell_type": "code",
      "source": [],
      "metadata": {
        "id": "K5mk3CrOJ54F"
      },
      "execution_count": null,
      "outputs": []
    }
  ]
}