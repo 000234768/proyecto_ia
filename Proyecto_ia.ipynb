{
  "nbformat": 4,
  "nbformat_minor": 0,
  "metadata": {
    "colab": {
      "provenance": [],
      "authorship_tag": "ABX9TyMpeRu29lxf3ejU0jcAwfEs",
      "include_colab_link": true
    },
    "kernelspec": {
      "name": "python3",
      "display_name": "Python 3"
    },
    "language_info": {
      "name": "python"
    }
  },
  "cells": [
    {
      "cell_type": "markdown",
      "metadata": {
        "id": "view-in-github",
        "colab_type": "text"
      },
      "source": [
        "<a href=\"https://colab.research.google.com/github/000234768/proyecto_ia/blob/main/Proyecto_ia.ipynb\" target=\"_parent\"><img src=\"https://colab.research.google.com/assets/colab-badge.svg\" alt=\"Open In Colab\"/></a>"
      ]
    },
    {
      "cell_type": "markdown",
      "source": [
        "Alumnos: Juan Lavado y Matias Toledo\n",
        "\n",
        "Cuadro de autoevaluación:\n",
        "![image.png](data:image/png;base64,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)"
      ],
      "metadata": {
        "id": "wKokYmKmZfDq"
      }
    },
    {
      "cell_type": "markdown",
      "source": [
        "**METODOLOGIA: CRISP DM**\n",
        "\n",
        "1.*Comprensión del problema*"
      ],
      "metadata": {
        "id": "FKg-ORL0d8FA"
      }
    },
    {
      "cell_type": "markdown",
      "source": [
        "**Titulo:**\n",
        "*Detección Temprana de Ambliopía en Niños Utilizando Redes Neuronales Convolucionales en Lentes Inteligentes*"
      ],
      "metadata": {
        "id": "aWccBGSiV-8J"
      }
    },
    {
      "cell_type": "markdown",
      "source": [
        "Presentación del proyecto:\n",
        "La problemática abordada en este proyecto personal se centra en la detección temprana de la ambliopía, conocida comúnmente como \"ojo perezoso\", en niños. La ambliopía es una condición visual que puede afectar negativamente el desarrollo de la visión si no se trata a tiempo. Sin embargo, el acceso a exámenes oculares regulares y la detección temprana pueden ser un desafío en ciertas comunidades o áreas con recursos limitados.\n",
        "Para abordar esta problemática, se propone una solución innovadora utilizando lentes inteligentes equipados con redes neuronales convolucionales (CNN). Estas redes neuronales son especialmente adecuadas para el procesamiento de imágenes y el reconocimiento de patrones visuales.\n",
        "La posible solución consiste en desarrollar unos lentes inteligentes que permitan la detección continua y no invasiva de la ambliopía en niños. Estos lentes estarán equipados con cámaras de alta resolución y sensores oculares para capturar y analizar imágenes del entorno visual del niño. La información visual será procesada utilizando una arquitectura de red neuronal convolucional.\n",
        "La elección de las redes neuronales convolucionales se basa en su capacidad para extraer características relevantes de las imágenes y reconocer patrones visuales específicos. Al entrenar y ajustar la CNN específicamente para la detección de ambliopía, se podrán identificar desalineaciones o movimientos oculares atípicos que podrían ser indicativos de la presencia de la condición.\n",
        "El objetivo principal de este proyecto personal es brindar una solución accesible y efectiva para la detección temprana de la ambliopía en niños, sin la necesidad de que acudan constantemente al médico. Esto permitirá una intervención oportuna y un tratamiento adecuado, mejorando así el desarrollo visual y la calidad de vida de los niños afectados.\n",
        "En conclusion, mediante el uso de lentes inteligentes y la implementación de una arquitectura de red neuronal convolucional, se busca proporcionar una herramienta innovadora que facilite la detección temprana de la ambliopía. Al aprovechar la capacidad de las CNN para procesar imágenes y reconocer patrones visuales, este proyecto busca marcar la diferencia en la salud visual de los niños al proporcionar una solución accesible y efectiva para la detección temprana de esta condición visual.\n"
      ],
      "metadata": {
        "id": "i4qjLBIgVtTK"
      }
    },
    {
      "cell_type": "code",
      "execution_count": 86,
      "metadata": {
        "id": "UgDpSaPxVbBn"
      },
      "outputs": [],
      "source": [
        "import pandas as pd\n",
        "import numpy as np\n",
        "from sklearn.model_selection import KFold\n",
        "from sklearn.model_selection import train_test_split\n",
        "from sklearn.preprocessing import LabelEncoder\n",
        "from sklearn.ensemble import RandomForestClassifier\n",
        "from sklearn.metrics import accuracy_score\n",
        "from sklearn.preprocessing import MinMaxScaler\n",
        "from tensorflow.keras.models import Sequential\n",
        "from tensorflow.keras.layers import Dense\n",
        "from tensorflow.keras.optimizers import Adam\n",
        "from tensorflow.keras.metrics import MeanSquaredError, MeanAbsoluteError\n",
        "\n",
        "\n",
        "url = \"https://raw.githubusercontent.com/000234768/proyecto_ia/main/tblATS5Enroll.csv\"  # URL DEL CSV\n",
        "\n",
        "df = pd.read_csv(url)\n",
        "\n",
        "\n"
      ]
    },
    {
      "cell_type": "markdown",
      "source": [
        "2.*Comprension de los datos*"
      ],
      "metadata": {
        "id": "9_JrYf8seR38"
      }
    },
    {
      "cell_type": "markdown",
      "source": [
        "Estudio de datos"
      ],
      "metadata": {
        "id": "HxC4lhy_Yn6T"
      }
    },
    {
      "cell_type": "code",
      "source": [
        "df.columns"
      ],
      "metadata": {
        "colab": {
          "base_uri": "https://localhost:8080/"
        },
        "id": "m4b40EU6XF3B",
        "outputId": "a9b44c0c-e40e-49c5-86b9-5f3aa141a2eb"
      },
      "execution_count": 87,
      "outputs": [
        {
          "output_type": "execute_result",
          "data": {
            "text/plain": [
              "Index(['PtID', 'VisitDt', 'Gender', 'Ethnicity', 'Race', 'HistoryDt',\n",
              "       'PrRxNone', 'PrRxPatS', 'PrRxPatG', 'PrRxAtrp', 'PrRxFogg', 'PrRxOth',\n",
              "       'PrRxOthDs', 'NoPrRx', 'NoPrSurg', 'NoCurVisTherOrth', 'NoAllergyAdh',\n",
              "       'HxSpecUse12Mo', 'SpecCur', 'HxSphOD', 'HxCylOD', 'HxAxisOD', 'HxSphOS',\n",
              "       'HxCylOS', 'HxAxisOS', 'CRTestDt', 'CRSphOD', 'CRCylOD', 'CRAxisOD',\n",
              "       'CRSphOS', 'CRCylOS', 'CRAxisOS', 'VATestDt', 'VAInstrBright',\n",
              "       'EVAMeasDist', 'EVACalibSize', 'VisAcuOD', 'VANoneOD', 'VASphOD',\n",
              "       'VACylOD', 'VAAxisOD', 'CycOD', 'VisAcuOS', 'VANoneOS', 'VASphOS',\n",
              "       'VACylOS', 'VAAxisOS', 'CycOS', 'ASOcuAlignDt', 'TropiaDi',\n",
              "       'TropiaHSizeDi', 'TropHTypeDi', 'TropiaVSizeDi', 'TropVTypeDi',\n",
              "       'TropiaNr', 'TropiaHSizeNr', 'TropHTypeNr', 'TropiaVSizeNr',\n",
              "       'TropVTypeNr', 'Krimsky', 'PrStrbSurg', 'StrbType', 'Nystagmus',\n",
              "       'OcuExamDt', 'AmbCrit', 'NoOcuCause', 'ParentUndProt', 'ParentHmPhone',\n",
              "       'ParentNoRelo', 'SpecClass', 'RxSphOD', 'RxCylOD', 'RxAxisOD',\n",
              "       'RxSphOS', 'RxCylOS', 'RxAxisOS'],\n",
              "      dtype='object')"
            ]
          },
          "metadata": {},
          "execution_count": 87
        }
      ]
    },
    {
      "cell_type": "markdown",
      "source": [
        "En el contexto de la detección temprana de ambliopía, utilizar datos específicos y relevantes es fundamental para desarrollar un modelo efectivo. A continuación se describen algunos datos y la razón por la cual sería necesario utilizarlos en el modelo:\n",
        "\n",
        "Género (Gender): La prevalencia de la ambliopía puede variar entre hombres y mujeres. Incluir el género como dato permitiría al modelo considerar posibles diferencias en la incidencia y manifestación de la enfermedad en ambos sexos.\n",
        "\n",
        "Historia de tratamiento previo de ambliopía (Prior amblyopia treatment): La información sobre tratamientos previos de ambliopía puede proporcionar importantes pistas sobre la presencia o recurrencia de la enfermedad. Esto permitiría al modelo evaluar si el paciente ha recibido tratamientos previos y cómo podrían influir en el diagnóstico y la detección de la ambliopía.\n",
        "\n",
        "Datos de refracción (sfera, cilindro, eje) (Sph, Cyl, Axis): Los errores refractivos, como la miopía, la hipermetropía o el astigmatismo, pueden estar relacionados con la ambliopía. Incluir datos de refracción permitiría al modelo considerar estos factores y evaluar cómo podrían contribuir al diagnóstico de la enfermedad.\n",
        "\n",
        "Agudeza visual (Visual acuity): La medición de la agudeza visual es esencial para evaluar la calidad de la visión y detectar posibles problemas de ambliopía. Incluir datos de agudeza visual permitiría al modelo utilizar esta información clave en su proceso de detección.\n",
        "\n",
        "Presencia de estrabismo (TropiaDi, TropiaHSizeDi, TropHTypeDi, TropiaVSizeDi, TropVTypeDi): El estrabismo, la desalineación de los ojos, es una condición común asociada con la ambliopía. Incluir datos relacionados con la presencia de estrabismo permitiría al modelo identificar esta condición y su posible relación con la ambliopía.\n",
        "\n",
        "Fecha del último examen ocular (OcuExamDt): La temporalidad de los datos es importante para evaluar la relevancia de los resultados. Incluir la fecha del último examen ocular permitiría al modelo considerar la información más actualizada y tener en cuenta los cambios en la condición del paciente a lo largo del tiempo.\n",
        "\n",
        "Datos relacionados con el uso de lentes (HxSpecUse12Mo, SpecCur, SpecClass, RxSphOD, RxCylOD, RxAxisOD, RxSphOS, RxCylOS, RxAxisOS): Los datos relacionados con los lentes, como la historia de uso, la prescripción actual y las características específicas de la corrección óptica, son relevantes para evaluar la función visual y la necesidad de tratamientos específicos. Incluir estos datos permitiría al modelo tener en cuenta el estado actual de la corrección óptica del paciente.\n",
        "\n",
        "utilizar datos específicos y relevantes en el modelo de detección de ambliopía proporcionaría información más completa y precisa para el diagnóstico y la detección temprana de la enfermedad. Estos datos permitirían al modelo considerar factores clave relacionados con la ambliopía, como el género, los tratamientos previos, los errores refractivos, la agudeza visual, el estrabismo, la temporalidad de los datos y el uso de lentes.\n"
      ],
      "metadata": {
        "id": "UJxBD38ukN1h"
      }
    },
    {
      "cell_type": "markdown",
      "source": [
        "3. *Preparación de los datos*"
      ],
      "metadata": {
        "id": "zaYmsG5Jk6A1"
      }
    },
    {
      "cell_type": "code",
      "source": [
        "# Obtener columnas con datos nulos\n",
        "columnas_con_nulos = df.columns[df.isnull().any()]\n",
        "\n",
        "# Mostrar las columnas con datos nulos\n",
        "print(columnas_con_nulos)\n"
      ],
      "metadata": {
        "colab": {
          "base_uri": "https://localhost:8080/"
        },
        "id": "y7InlNKCX3C8",
        "outputId": "fda0ace5-4673-4898-e2f0-c79613f7ed9d"
      },
      "execution_count": 88,
      "outputs": [
        {
          "output_type": "stream",
          "name": "stdout",
          "text": [
            "Index(['PrRxNone', 'PrRxPatS', 'PrRxPatG', 'PrRxAtrp', 'PrRxFogg', 'PrRxOth',\n",
            "       'PrRxOthDs', 'SpecCur', 'HxSphOD', 'HxCylOD', 'HxAxisOD', 'HxSphOS',\n",
            "       'HxCylOS', 'HxAxisOS', 'CRCylOD', 'CRAxisOD', 'CRCylOS', 'CRAxisOS',\n",
            "       'VANoneOD', 'VASphOD', 'VACylOD', 'VAAxisOD', 'CycOD', 'VANoneOS',\n",
            "       'VASphOS', 'VACylOS', 'VAAxisOS', 'CycOS', 'TropiaDi', 'TropiaHSizeDi',\n",
            "       'TropHTypeDi', 'TropiaVSizeDi', 'TropVTypeDi', 'TropiaNr',\n",
            "       'TropiaHSizeNr', 'TropHTypeNr', 'TropiaVSizeNr', 'TropVTypeNr',\n",
            "       'Krimsky', 'RxSphOD', 'RxCylOD', 'RxAxisOD', 'RxSphOS', 'RxCylOS',\n",
            "       'RxAxisOS'],\n",
            "      dtype='object')\n"
          ]
        }
      ]
    },
    {
      "cell_type": "code",
      "source": [
        "# Contar los valores nulos en cada columna\n",
        "total_nulos_por_columna = df.isnull().sum()\n",
        "\n",
        "# Mostrar el número de valores nulos por columna\n",
        "print(total_nulos_por_columna)\n"
      ],
      "metadata": {
        "colab": {
          "base_uri": "https://localhost:8080/"
        },
        "id": "qo3xv9TSbLoq",
        "outputId": "c4b665fb-5f96-4ddf-cae3-f5a45c78ff7a"
      },
      "execution_count": 89,
      "outputs": [
        {
          "output_type": "stream",
          "name": "stdout",
          "text": [
            "PtID           0\n",
            "VisitDt        0\n",
            "Gender         0\n",
            "Ethnicity      0\n",
            "Race           0\n",
            "            ... \n",
            "RxCylOD      175\n",
            "RxAxisOD     175\n",
            "RxSphOS       69\n",
            "RxCylOS      175\n",
            "RxAxisOS     175\n",
            "Length: 76, dtype: int64\n"
          ]
        }
      ]
    },
    {
      "cell_type": "markdown",
      "source": [
        "**¿Por qué no eliminar las columnas con datos nulos, acaso esas columnas son importantes?**"
      ],
      "metadata": {
        "id": "d8qM615Tca74"
      }
    },
    {
      "cell_type": "markdown",
      "source": [
        "'PrRxNone', 'PrRxPatS', 'PrRxPatG', 'PrRxAtrp', 'PrRxFogg', 'PrRxOth': Estas columnas parecen indican diferentes tipos de tratamientos previos para la ambliopía. Podrían proporcionar información sobre el historial de tratamiento de los pacientes.\n",
        "\n",
        "'SpecCur': Esta columna indica la duración del uso actual de los anteojos. Puede ser útil para evaluar si los pacientes han estado usando los anteojos correctamente y durante cuánto tiempo.\n",
        "\n",
        "'HxSphOD', 'HxCylOD', 'HxAxisOD', 'HxSphOS', 'HxCylOS', 'HxAxisOS': Estas columnas representan las correcciones de esfera, cilindro y eje para los ojos derecho e izquierdo en el historial. Proporcionan información sobre las características de la prescripción óptica previa.\n",
        "\n",
        "'CRCylOD', 'CRAxisOD', 'CRCylOS', 'CRAxisOS': Estas columnas representan el cilindro y el eje de la refracción ciclóplega (refracción realizada después de la administración de gotas ciclóplegas). Pueden ser útiles para evaluar la necesidad de corrección adicional en comparación con el historial de prescripción óptica.\n",
        "\n",
        "'VANoneOD', 'VASphOD', 'VACylOD', 'VAAxisOD', 'CycOD', 'VANoneOS', 'VASphOS', 'VACylOS', 'VAAxisOS', 'CycOS': Estas columnas representan la agudeza visual y la corrección utilizada para cada ojo, tanto en condiciones cíclopegas como no cíclopegas. Pueden ser útiles para evaluar la agudeza visual actual y el efecto de la corrección en los resultados visuales.\n",
        "\n",
        "'TropiaDi', 'TropiaHSizeDi', 'TropHTypeDi', 'TropiaVSizeDi', 'TropVTypeDi', 'TropiaNr', 'TropiaHSizeNr', 'TropHTypeNr', 'TropiaVSizeNr', 'TropVTypeNr': Estas columnas indican la presencia y características de la tropía (desviación ocular) en diferentes distancias y direcciones. Pueden proporcionar información sobre los problemas de alineación ocular de los pacientes.\n",
        "\n",
        "'Krimsky': Esta columna parece estar relacionada con la prueba de Krimsky utilizada para evaluar el alineamiento ocular. Puede ser útil para evaluar la desviación ocular y su magnitud.\n",
        "\n",
        "'RxSphOD', 'RxCylOD', 'RxAxisOD', 'RxSphOS', 'RxCylOS', 'RxAxisOS': Estas columnas representan la prescripción esférica, cilíndrica y el eje de la corrección óptica actual. Son útiles para conocer la prescripción actual de los pacientes."
      ],
      "metadata": {
        "id": "yfBGTC5NcSr2"
      }
    },
    {
      "cell_type": "markdown",
      "source": [
        "**Nota:**\n",
        "*Es importante resaltar que estos datos aunque contengan datos nulos son importantes para nuestro estudio, porque nos ayudaria a identificar mejor las señales de ampliopia en los ojos de nuestros pacientes*"
      ],
      "metadata": {
        "id": "YA8lvEz6c2T7"
      }
    },
    {
      "cell_type": "markdown",
      "source": [
        "4. *Modelado de la solución utilizando la arquitectura de red neuronal feed-forward*"
      ],
      "metadata": {
        "id": "CdwsSY1QV2eS"
      }
    },
    {
      "cell_type": "code",
      "source": [
        "# Seleccionar las columnas relevantes\n",
        "relevant_columns = ['Gender', 'Ethnicity', 'Race', 'HxSphOD', 'HxCylOD', 'HxAxisOD', 'HxSphOS', 'HxCylOS', 'HxAxisOS', 'VisAcuOD', 'VisAcuOS']\n",
        "selected_data = df[relevant_columns]"
      ],
      "metadata": {
        "id": "bf7Qc-4sny-D"
      },
      "execution_count": 90,
      "outputs": []
    },
    {
      "cell_type": "code",
      "source": [
        "# Función de conversión de fracción a decimal\n",
        "def fraction_to_decimal(value):\n",
        "    try:\n",
        "        return float(value)\n",
        "    except ValueError:\n",
        "        parts = value.split('/')\n",
        "        if len(parts) == 2:\n",
        "            numerator = float(parts[0])\n",
        "            denominator = float(parts[1])\n",
        "            return numerator / denominator\n",
        "        else:\n",
        "            return None"
      ],
      "metadata": {
        "id": "WSYPDFUYrck1"
      },
      "execution_count": 91,
      "outputs": []
    },
    {
      "cell_type": "code",
      "source": [
        "# Aplicar la conversión a las columnas de agudeza visual\n",
        "selected_data['VisAcuOD'] = selected_data['VisAcuOD'].apply(fraction_to_decimal)\n",
        "selected_data['VisAcuOS'] = selected_data['VisAcuOS'].apply(fraction_to_decimal)\n",
        "\n",
        "# Eliminar filas con valores nulos después de la conversión\n",
        "selected_data = selected_data.dropna()"
      ],
      "metadata": {
        "colab": {
          "base_uri": "https://localhost:8080/"
        },
        "id": "RRw23MhBq-ZH",
        "outputId": "55fabe46-b9f2-49c8-c946-cf6062070836"
      },
      "execution_count": 92,
      "outputs": [
        {
          "output_type": "stream",
          "name": "stderr",
          "text": [
            "<ipython-input-92-88f7e501b307>:2: SettingWithCopyWarning: \n",
            "A value is trying to be set on a copy of a slice from a DataFrame.\n",
            "Try using .loc[row_indexer,col_indexer] = value instead\n",
            "\n",
            "See the caveats in the documentation: https://pandas.pydata.org/pandas-docs/stable/user_guide/indexing.html#returning-a-view-versus-a-copy\n",
            "  selected_data['VisAcuOD'] = selected_data['VisAcuOD'].apply(fraction_to_decimal)\n",
            "<ipython-input-92-88f7e501b307>:3: SettingWithCopyWarning: \n",
            "A value is trying to be set on a copy of a slice from a DataFrame.\n",
            "Try using .loc[row_indexer,col_indexer] = value instead\n",
            "\n",
            "See the caveats in the documentation: https://pandas.pydata.org/pandas-docs/stable/user_guide/indexing.html#returning-a-view-versus-a-copy\n",
            "  selected_data['VisAcuOS'] = selected_data['VisAcuOS'].apply(fraction_to_decimal)\n"
          ]
        }
      ]
    },
    {
      "cell_type": "code",
      "source": [
        "# Separar las características y las etiquetas\n",
        "features = selected_data[['Gender', 'Ethnicity', 'Race', 'HxSphOD', 'HxCylOD', 'HxAxisOD', 'HxSphOS', 'HxCylOS', 'HxAxisOS']]\n",
        "labels = selected_data[['VisAcuOD', 'VisAcuOS']]\n"
      ],
      "metadata": {
        "id": "41ioj8Biuzhf"
      },
      "execution_count": 93,
      "outputs": []
    },
    {
      "cell_type": "code",
      "source": [
        "# Codificar las características categóricas\n",
        "encoder = LabelEncoder()\n",
        "for column in features.columns:\n",
        "    if features[column].dtype == 'object':\n",
        "        features[column] = encoder.fit_transform(features[column])\n",
        "\n",
        "# Dividir los datos en conjuntos de entrenamiento y prueba\n",
        "X_train, X_test, y_train, y_test = train_test_split(features, labels, test_size=0.2, random_state=42)\n",
        "\n",
        "# Normalizar los datos\n",
        "scaler = MinMaxScaler()\n",
        "X_train = scaler.fit_transform(X_train)\n",
        "X_test = scaler.transform(X_test)\n",
        "\n",
        "# Ajustar el número de neuronas en la capa de entrada\n",
        "n_features = X_train.shape[1]\n",
        "\n",
        "# Construir el modelo de la red neuronal\n",
        "model = Sequential()\n",
        "model.add(Dense(100, activation='relu', input_shape=(n_features,))) # La data\n",
        "model.add(Dense(42, activation='relu'))\n",
        "model.add(Dense(2))\n",
        "\n",
        "# Compilar y entrenar el modelo\n",
        "model.compile(optimizer=Adam(), loss='mse', metrics=[MeanSquaredError(), MeanAbsoluteError()])\n",
        "history = model.fit(X_train, y_train, epochs=100, batch_size=32, validation_data=(X_test, y_test))\n",
        "\n",
        "# Evaluar el modelo en el conjunto de prueba\n",
        "loss, mse, mae = model.evaluate(X_test, y_test)\n",
        "print(\"Mean Squared Error:\", mse)\n",
        "print(\"Mean Absolute Error:\", mae)\n"
      ],
      "metadata": {
        "colab": {
          "base_uri": "https://localhost:8080/"
        },
        "id": "2pdhvzeWsBkm",
        "outputId": "c17f086b-cafa-4146-c9ae-f4358acb6477"
      },
      "execution_count": 94,
      "outputs": [
        {
          "output_type": "stream",
          "name": "stdout",
          "text": [
            "Epoch 1/100\n"
          ]
        },
        {
          "output_type": "stream",
          "name": "stderr",
          "text": [
            "<ipython-input-94-b2ec29c41091>:5: SettingWithCopyWarning: \n",
            "A value is trying to be set on a copy of a slice from a DataFrame.\n",
            "Try using .loc[row_indexer,col_indexer] = value instead\n",
            "\n",
            "See the caveats in the documentation: https://pandas.pydata.org/pandas-docs/stable/user_guide/indexing.html#returning-a-view-versus-a-copy\n",
            "  features[column] = encoder.fit_transform(features[column])\n",
            "<ipython-input-94-b2ec29c41091>:5: SettingWithCopyWarning: \n",
            "A value is trying to be set on a copy of a slice from a DataFrame.\n",
            "Try using .loc[row_indexer,col_indexer] = value instead\n",
            "\n",
            "See the caveats in the documentation: https://pandas.pydata.org/pandas-docs/stable/user_guide/indexing.html#returning-a-view-versus-a-copy\n",
            "  features[column] = encoder.fit_transform(features[column])\n",
            "<ipython-input-94-b2ec29c41091>:5: SettingWithCopyWarning: \n",
            "A value is trying to be set on a copy of a slice from a DataFrame.\n",
            "Try using .loc[row_indexer,col_indexer] = value instead\n",
            "\n",
            "See the caveats in the documentation: https://pandas.pydata.org/pandas-docs/stable/user_guide/indexing.html#returning-a-view-versus-a-copy\n",
            "  features[column] = encoder.fit_transform(features[column])\n"
          ]
        },
        {
          "output_type": "stream",
          "name": "stdout",
          "text": [
            "2/2 [==============================] - 1s 207ms/step - loss: 0.4254 - mean_squared_error: 0.4254 - mean_absolute_error: 0.5594 - val_loss: 0.2623 - val_mean_squared_error: 0.2623 - val_mean_absolute_error: 0.4105\n",
            "Epoch 2/100\n",
            "2/2 [==============================] - 0s 60ms/step - loss: 0.3078 - mean_squared_error: 0.3078 - mean_absolute_error: 0.4570 - val_loss: 0.1845 - val_mean_squared_error: 0.1845 - val_mean_absolute_error: 0.3305\n",
            "Epoch 3/100\n",
            "2/2 [==============================] - 0s 36ms/step - loss: 0.2247 - mean_squared_error: 0.2247 - mean_absolute_error: 0.3767 - val_loss: 0.1382 - val_mean_squared_error: 0.1382 - val_mean_absolute_error: 0.2966\n",
            "Epoch 4/100\n",
            "2/2 [==============================] - 0s 51ms/step - loss: 0.1645 - mean_squared_error: 0.1645 - mean_absolute_error: 0.3214 - val_loss: 0.1194 - val_mean_squared_error: 0.1194 - val_mean_absolute_error: 0.2841\n",
            "Epoch 5/100\n",
            "2/2 [==============================] - 0s 43ms/step - loss: 0.1333 - mean_squared_error: 0.1333 - mean_absolute_error: 0.2972 - val_loss: 0.1228 - val_mean_squared_error: 0.1228 - val_mean_absolute_error: 0.2941\n",
            "Epoch 6/100\n",
            "2/2 [==============================] - 0s 51ms/step - loss: 0.1194 - mean_squared_error: 0.1194 - mean_absolute_error: 0.2872 - val_loss: 0.1378 - val_mean_squared_error: 0.1378 - val_mean_absolute_error: 0.3171\n",
            "Epoch 7/100\n",
            "2/2 [==============================] - 0s 54ms/step - loss: 0.1230 - mean_squared_error: 0.1230 - mean_absolute_error: 0.2951 - val_loss: 0.1531 - val_mean_squared_error: 0.1531 - val_mean_absolute_error: 0.3329\n",
            "Epoch 8/100\n",
            "2/2 [==============================] - 0s 44ms/step - loss: 0.1283 - mean_squared_error: 0.1283 - mean_absolute_error: 0.3026 - val_loss: 0.1571 - val_mean_squared_error: 0.1571 - val_mean_absolute_error: 0.3371\n",
            "Epoch 9/100\n",
            "2/2 [==============================] - 0s 35ms/step - loss: 0.1296 - mean_squared_error: 0.1296 - mean_absolute_error: 0.3031 - val_loss: 0.1493 - val_mean_squared_error: 0.1493 - val_mean_absolute_error: 0.3280\n",
            "Epoch 10/100\n",
            "2/2 [==============================] - 0s 58ms/step - loss: 0.1265 - mean_squared_error: 0.1265 - mean_absolute_error: 0.2996 - val_loss: 0.1358 - val_mean_squared_error: 0.1358 - val_mean_absolute_error: 0.3115\n",
            "Epoch 11/100\n",
            "2/2 [==============================] - 0s 39ms/step - loss: 0.1210 - mean_squared_error: 0.1210 - mean_absolute_error: 0.2933 - val_loss: 0.1207 - val_mean_squared_error: 0.1207 - val_mean_absolute_error: 0.2918\n",
            "Epoch 12/100\n",
            "2/2 [==============================] - 0s 59ms/step - loss: 0.1140 - mean_squared_error: 0.1140 - mean_absolute_error: 0.2852 - val_loss: 0.1079 - val_mean_squared_error: 0.1079 - val_mean_absolute_error: 0.2733\n",
            "Epoch 13/100\n",
            "2/2 [==============================] - 0s 37ms/step - loss: 0.1090 - mean_squared_error: 0.1090 - mean_absolute_error: 0.2802 - val_loss: 0.0988 - val_mean_squared_error: 0.0988 - val_mean_absolute_error: 0.2627\n",
            "Epoch 14/100\n",
            "2/2 [==============================] - 0s 35ms/step - loss: 0.1059 - mean_squared_error: 0.1059 - mean_absolute_error: 0.2763 - val_loss: 0.0928 - val_mean_squared_error: 0.0928 - val_mean_absolute_error: 0.2561\n",
            "Epoch 15/100\n",
            "2/2 [==============================] - 0s 61ms/step - loss: 0.1025 - mean_squared_error: 0.1025 - mean_absolute_error: 0.2708 - val_loss: 0.0903 - val_mean_squared_error: 0.0903 - val_mean_absolute_error: 0.2538\n",
            "Epoch 16/100\n",
            "2/2 [==============================] - 0s 53ms/step - loss: 0.1026 - mean_squared_error: 0.1026 - mean_absolute_error: 0.2698 - val_loss: 0.0902 - val_mean_squared_error: 0.0902 - val_mean_absolute_error: 0.2532\n",
            "Epoch 17/100\n",
            "2/2 [==============================] - 0s 49ms/step - loss: 0.1009 - mean_squared_error: 0.1009 - mean_absolute_error: 0.2669 - val_loss: 0.0901 - val_mean_squared_error: 0.0901 - val_mean_absolute_error: 0.2521\n",
            "Epoch 18/100\n",
            "2/2 [==============================] - 0s 63ms/step - loss: 0.1006 - mean_squared_error: 0.1006 - mean_absolute_error: 0.2659 - val_loss: 0.0906 - val_mean_squared_error: 0.0906 - val_mean_absolute_error: 0.2516\n",
            "Epoch 19/100\n",
            "2/2 [==============================] - 0s 46ms/step - loss: 0.0992 - mean_squared_error: 0.0992 - mean_absolute_error: 0.2642 - val_loss: 0.0909 - val_mean_squared_error: 0.0909 - val_mean_absolute_error: 0.2515\n",
            "Epoch 20/100\n",
            "2/2 [==============================] - 0s 65ms/step - loss: 0.0976 - mean_squared_error: 0.0976 - mean_absolute_error: 0.2623 - val_loss: 0.0907 - val_mean_squared_error: 0.0907 - val_mean_absolute_error: 0.2512\n",
            "Epoch 21/100\n",
            "2/2 [==============================] - 0s 63ms/step - loss: 0.0957 - mean_squared_error: 0.0957 - mean_absolute_error: 0.2607 - val_loss: 0.0899 - val_mean_squared_error: 0.0899 - val_mean_absolute_error: 0.2502\n",
            "Epoch 22/100\n",
            "2/2 [==============================] - 0s 63ms/step - loss: 0.0941 - mean_squared_error: 0.0941 - mean_absolute_error: 0.2592 - val_loss: 0.0888 - val_mean_squared_error: 0.0888 - val_mean_absolute_error: 0.2492\n",
            "Epoch 23/100\n",
            "2/2 [==============================] - 0s 70ms/step - loss: 0.0929 - mean_squared_error: 0.0929 - mean_absolute_error: 0.2586 - val_loss: 0.0877 - val_mean_squared_error: 0.0877 - val_mean_absolute_error: 0.2480\n",
            "Epoch 24/100\n",
            "2/2 [==============================] - 0s 78ms/step - loss: 0.0915 - mean_squared_error: 0.0915 - mean_absolute_error: 0.2574 - val_loss: 0.0867 - val_mean_squared_error: 0.0867 - val_mean_absolute_error: 0.2467\n",
            "Epoch 25/100\n",
            "2/2 [==============================] - 0s 69ms/step - loss: 0.0902 - mean_squared_error: 0.0902 - mean_absolute_error: 0.2561 - val_loss: 0.0860 - val_mean_squared_error: 0.0860 - val_mean_absolute_error: 0.2456\n",
            "Epoch 26/100\n",
            "2/2 [==============================] - 0s 67ms/step - loss: 0.0893 - mean_squared_error: 0.0893 - mean_absolute_error: 0.2550 - val_loss: 0.0850 - val_mean_squared_error: 0.0850 - val_mean_absolute_error: 0.2441\n",
            "Epoch 27/100\n",
            "2/2 [==============================] - 0s 76ms/step - loss: 0.0881 - mean_squared_error: 0.0881 - mean_absolute_error: 0.2534 - val_loss: 0.0835 - val_mean_squared_error: 0.0835 - val_mean_absolute_error: 0.2420\n",
            "Epoch 28/100\n",
            "2/2 [==============================] - 0s 64ms/step - loss: 0.0871 - mean_squared_error: 0.0871 - mean_absolute_error: 0.2519 - val_loss: 0.0821 - val_mean_squared_error: 0.0821 - val_mean_absolute_error: 0.2402\n",
            "Epoch 29/100\n",
            "2/2 [==============================] - 0s 47ms/step - loss: 0.0861 - mean_squared_error: 0.0861 - mean_absolute_error: 0.2501 - val_loss: 0.0810 - val_mean_squared_error: 0.0810 - val_mean_absolute_error: 0.2389\n",
            "Epoch 30/100\n",
            "2/2 [==============================] - 0s 46ms/step - loss: 0.0849 - mean_squared_error: 0.0849 - mean_absolute_error: 0.2482 - val_loss: 0.0803 - val_mean_squared_error: 0.0803 - val_mean_absolute_error: 0.2381\n",
            "Epoch 31/100\n",
            "2/2 [==============================] - 0s 53ms/step - loss: 0.0836 - mean_squared_error: 0.0836 - mean_absolute_error: 0.2460 - val_loss: 0.0795 - val_mean_squared_error: 0.0795 - val_mean_absolute_error: 0.2369\n",
            "Epoch 32/100\n",
            "2/2 [==============================] - 0s 63ms/step - loss: 0.0824 - mean_squared_error: 0.0824 - mean_absolute_error: 0.2441 - val_loss: 0.0789 - val_mean_squared_error: 0.0789 - val_mean_absolute_error: 0.2362\n",
            "Epoch 33/100\n",
            "2/2 [==============================] - 0s 65ms/step - loss: 0.0813 - mean_squared_error: 0.0813 - mean_absolute_error: 0.2423 - val_loss: 0.0780 - val_mean_squared_error: 0.0780 - val_mean_absolute_error: 0.2350\n",
            "Epoch 34/100\n",
            "2/2 [==============================] - 0s 54ms/step - loss: 0.0804 - mean_squared_error: 0.0804 - mean_absolute_error: 0.2405 - val_loss: 0.0769 - val_mean_squared_error: 0.0769 - val_mean_absolute_error: 0.2333\n",
            "Epoch 35/100\n",
            "2/2 [==============================] - 0s 67ms/step - loss: 0.0795 - mean_squared_error: 0.0795 - mean_absolute_error: 0.2385 - val_loss: 0.0756 - val_mean_squared_error: 0.0756 - val_mean_absolute_error: 0.2313\n",
            "Epoch 36/100\n",
            "2/2 [==============================] - 0s 53ms/step - loss: 0.0783 - mean_squared_error: 0.0783 - mean_absolute_error: 0.2366 - val_loss: 0.0755 - val_mean_squared_error: 0.0755 - val_mean_absolute_error: 0.2311\n",
            "Epoch 37/100\n",
            "2/2 [==============================] - 0s 47ms/step - loss: 0.0773 - mean_squared_error: 0.0773 - mean_absolute_error: 0.2352 - val_loss: 0.0753 - val_mean_squared_error: 0.0753 - val_mean_absolute_error: 0.2305\n",
            "Epoch 38/100\n",
            "2/2 [==============================] - 0s 68ms/step - loss: 0.0763 - mean_squared_error: 0.0763 - mean_absolute_error: 0.2337 - val_loss: 0.0750 - val_mean_squared_error: 0.0750 - val_mean_absolute_error: 0.2299\n",
            "Epoch 39/100\n",
            "2/2 [==============================] - 0s 74ms/step - loss: 0.0751 - mean_squared_error: 0.0751 - mean_absolute_error: 0.2320 - val_loss: 0.0742 - val_mean_squared_error: 0.0742 - val_mean_absolute_error: 0.2288\n",
            "Epoch 40/100\n",
            "2/2 [==============================] - 0s 80ms/step - loss: 0.0741 - mean_squared_error: 0.0741 - mean_absolute_error: 0.2305 - val_loss: 0.0725 - val_mean_squared_error: 0.0725 - val_mean_absolute_error: 0.2261\n",
            "Epoch 41/100\n",
            "2/2 [==============================] - 0s 62ms/step - loss: 0.0727 - mean_squared_error: 0.0727 - mean_absolute_error: 0.2288 - val_loss: 0.0697 - val_mean_squared_error: 0.0697 - val_mean_absolute_error: 0.2217\n",
            "Epoch 42/100\n",
            "2/2 [==============================] - 0s 69ms/step - loss: 0.0717 - mean_squared_error: 0.0717 - mean_absolute_error: 0.2271 - val_loss: 0.0678 - val_mean_squared_error: 0.0678 - val_mean_absolute_error: 0.2188\n",
            "Epoch 43/100\n",
            "2/2 [==============================] - 0s 47ms/step - loss: 0.0707 - mean_squared_error: 0.0707 - mean_absolute_error: 0.2252 - val_loss: 0.0656 - val_mean_squared_error: 0.0656 - val_mean_absolute_error: 0.2150\n",
            "Epoch 44/100\n",
            "2/2 [==============================] - 0s 74ms/step - loss: 0.0699 - mean_squared_error: 0.0699 - mean_absolute_error: 0.2231 - val_loss: 0.0647 - val_mean_squared_error: 0.0647 - val_mean_absolute_error: 0.2137\n",
            "Epoch 45/100\n",
            "2/2 [==============================] - 0s 66ms/step - loss: 0.0691 - mean_squared_error: 0.0691 - mean_absolute_error: 0.2215 - val_loss: 0.0647 - val_mean_squared_error: 0.0647 - val_mean_absolute_error: 0.2144\n",
            "Epoch 46/100\n",
            "2/2 [==============================] - 0s 62ms/step - loss: 0.0680 - mean_squared_error: 0.0680 - mean_absolute_error: 0.2196 - val_loss: 0.0645 - val_mean_squared_error: 0.0645 - val_mean_absolute_error: 0.2144\n",
            "Epoch 47/100\n",
            "2/2 [==============================] - 0s 73ms/step - loss: 0.0674 - mean_squared_error: 0.0674 - mean_absolute_error: 0.2186 - val_loss: 0.0656 - val_mean_squared_error: 0.0656 - val_mean_absolute_error: 0.2171\n",
            "Epoch 48/100\n",
            "2/2 [==============================] - 0s 77ms/step - loss: 0.0660 - mean_squared_error: 0.0660 - mean_absolute_error: 0.2162 - val_loss: 0.0649 - val_mean_squared_error: 0.0649 - val_mean_absolute_error: 0.2163\n",
            "Epoch 49/100\n",
            "2/2 [==============================] - 0s 78ms/step - loss: 0.0651 - mean_squared_error: 0.0651 - mean_absolute_error: 0.2143 - val_loss: 0.0644 - val_mean_squared_error: 0.0644 - val_mean_absolute_error: 0.2155\n",
            "Epoch 50/100\n",
            "2/2 [==============================] - 0s 52ms/step - loss: 0.0641 - mean_squared_error: 0.0641 - mean_absolute_error: 0.2124 - val_loss: 0.0638 - val_mean_squared_error: 0.0638 - val_mean_absolute_error: 0.2146\n",
            "Epoch 51/100\n",
            "2/2 [==============================] - 0s 73ms/step - loss: 0.0635 - mean_squared_error: 0.0635 - mean_absolute_error: 0.2110 - val_loss: 0.0637 - val_mean_squared_error: 0.0637 - val_mean_absolute_error: 0.2148\n",
            "Epoch 52/100\n",
            "2/2 [==============================] - 0s 59ms/step - loss: 0.0625 - mean_squared_error: 0.0625 - mean_absolute_error: 0.2092 - val_loss: 0.0624 - val_mean_squared_error: 0.0624 - val_mean_absolute_error: 0.2126\n",
            "Epoch 53/100\n",
            "2/2 [==============================] - 0s 87ms/step - loss: 0.0623 - mean_squared_error: 0.0623 - mean_absolute_error: 0.2082 - val_loss: 0.0604 - val_mean_squared_error: 0.0604 - val_mean_absolute_error: 0.2086\n",
            "Epoch 54/100\n",
            "2/2 [==============================] - 0s 58ms/step - loss: 0.0609 - mean_squared_error: 0.0609 - mean_absolute_error: 0.2053 - val_loss: 0.0604 - val_mean_squared_error: 0.0604 - val_mean_absolute_error: 0.2090\n",
            "Epoch 55/100\n",
            "2/2 [==============================] - 0s 51ms/step - loss: 0.0600 - mean_squared_error: 0.0600 - mean_absolute_error: 0.2036 - val_loss: 0.0607 - val_mean_squared_error: 0.0607 - val_mean_absolute_error: 0.2103\n",
            "Epoch 56/100\n",
            "2/2 [==============================] - 0s 40ms/step - loss: 0.0592 - mean_squared_error: 0.0592 - mean_absolute_error: 0.2029 - val_loss: 0.0618 - val_mean_squared_error: 0.0618 - val_mean_absolute_error: 0.2129\n",
            "Epoch 57/100\n",
            "2/2 [==============================] - 0s 54ms/step - loss: 0.0586 - mean_squared_error: 0.0586 - mean_absolute_error: 0.2015 - val_loss: 0.0612 - val_mean_squared_error: 0.0612 - val_mean_absolute_error: 0.2118\n",
            "Epoch 58/100\n",
            "2/2 [==============================] - 0s 38ms/step - loss: 0.0577 - mean_squared_error: 0.0577 - mean_absolute_error: 0.1998 - val_loss: 0.0605 - val_mean_squared_error: 0.0605 - val_mean_absolute_error: 0.2103\n",
            "Epoch 59/100\n",
            "2/2 [==============================] - 0s 60ms/step - loss: 0.0569 - mean_squared_error: 0.0569 - mean_absolute_error: 0.1982 - val_loss: 0.0588 - val_mean_squared_error: 0.0588 - val_mean_absolute_error: 0.2068\n",
            "Epoch 60/100\n",
            "2/2 [==============================] - 0s 54ms/step - loss: 0.0562 - mean_squared_error: 0.0562 - mean_absolute_error: 0.1964 - val_loss: 0.0573 - val_mean_squared_error: 0.0573 - val_mean_absolute_error: 0.2037\n",
            "Epoch 61/100\n",
            "2/2 [==============================] - 0s 38ms/step - loss: 0.0554 - mean_squared_error: 0.0554 - mean_absolute_error: 0.1938 - val_loss: 0.0570 - val_mean_squared_error: 0.0570 - val_mean_absolute_error: 0.2032\n",
            "Epoch 62/100\n",
            "2/2 [==============================] - 0s 44ms/step - loss: 0.0547 - mean_squared_error: 0.0547 - mean_absolute_error: 0.1927 - val_loss: 0.0573 - val_mean_squared_error: 0.0573 - val_mean_absolute_error: 0.2041\n",
            "Epoch 63/100\n",
            "2/2 [==============================] - 0s 35ms/step - loss: 0.0539 - mean_squared_error: 0.0539 - mean_absolute_error: 0.1916 - val_loss: 0.0581 - val_mean_squared_error: 0.0581 - val_mean_absolute_error: 0.2057\n",
            "Epoch 64/100\n",
            "2/2 [==============================] - 0s 55ms/step - loss: 0.0532 - mean_squared_error: 0.0532 - mean_absolute_error: 0.1908 - val_loss: 0.0590 - val_mean_squared_error: 0.0590 - val_mean_absolute_error: 0.2069\n",
            "Epoch 65/100\n",
            "2/2 [==============================] - 0s 53ms/step - loss: 0.0527 - mean_squared_error: 0.0527 - mean_absolute_error: 0.1900 - val_loss: 0.0591 - val_mean_squared_error: 0.0591 - val_mean_absolute_error: 0.2071\n",
            "Epoch 66/100\n",
            "2/2 [==============================] - 0s 40ms/step - loss: 0.0523 - mean_squared_error: 0.0523 - mean_absolute_error: 0.1888 - val_loss: 0.0566 - val_mean_squared_error: 0.0566 - val_mean_absolute_error: 0.2027\n",
            "Epoch 67/100\n",
            "2/2 [==============================] - 0s 54ms/step - loss: 0.0511 - mean_squared_error: 0.0511 - mean_absolute_error: 0.1864 - val_loss: 0.0554 - val_mean_squared_error: 0.0554 - val_mean_absolute_error: 0.2005\n",
            "Epoch 68/100\n",
            "2/2 [==============================] - 0s 55ms/step - loss: 0.0503 - mean_squared_error: 0.0503 - mean_absolute_error: 0.1838 - val_loss: 0.0536 - val_mean_squared_error: 0.0536 - val_mean_absolute_error: 0.1966\n",
            "Epoch 69/100\n",
            "2/2 [==============================] - 0s 44ms/step - loss: 0.0501 - mean_squared_error: 0.0501 - mean_absolute_error: 0.1828 - val_loss: 0.0525 - val_mean_squared_error: 0.0525 - val_mean_absolute_error: 0.1939\n",
            "Epoch 70/100\n",
            "2/2 [==============================] - 0s 39ms/step - loss: 0.0492 - mean_squared_error: 0.0492 - mean_absolute_error: 0.1807 - val_loss: 0.0535 - val_mean_squared_error: 0.0535 - val_mean_absolute_error: 0.1965\n",
            "Epoch 71/100\n",
            "2/2 [==============================] - 0s 55ms/step - loss: 0.0483 - mean_squared_error: 0.0483 - mean_absolute_error: 0.1795 - val_loss: 0.0543 - val_mean_squared_error: 0.0543 - val_mean_absolute_error: 0.1979\n",
            "Epoch 72/100\n",
            "2/2 [==============================] - 0s 37ms/step - loss: 0.0485 - mean_squared_error: 0.0485 - mean_absolute_error: 0.1801 - val_loss: 0.0561 - val_mean_squared_error: 0.0561 - val_mean_absolute_error: 0.2011\n",
            "Epoch 73/100\n",
            "2/2 [==============================] - 0s 54ms/step - loss: 0.0475 - mean_squared_error: 0.0475 - mean_absolute_error: 0.1776 - val_loss: 0.0534 - val_mean_squared_error: 0.0534 - val_mean_absolute_error: 0.1959\n",
            "Epoch 74/100\n",
            "2/2 [==============================] - 0s 56ms/step - loss: 0.0467 - mean_squared_error: 0.0467 - mean_absolute_error: 0.1752 - val_loss: 0.0513 - val_mean_squared_error: 0.0513 - val_mean_absolute_error: 0.1912\n",
            "Epoch 75/100\n",
            "2/2 [==============================] - 0s 53ms/step - loss: 0.0461 - mean_squared_error: 0.0461 - mean_absolute_error: 0.1729 - val_loss: 0.0511 - val_mean_squared_error: 0.0511 - val_mean_absolute_error: 0.1907\n",
            "Epoch 76/100\n",
            "2/2 [==============================] - 0s 57ms/step - loss: 0.0455 - mean_squared_error: 0.0455 - mean_absolute_error: 0.1721 - val_loss: 0.0518 - val_mean_squared_error: 0.0518 - val_mean_absolute_error: 0.1919\n",
            "Epoch 77/100\n",
            "2/2 [==============================] - 0s 39ms/step - loss: 0.0455 - mean_squared_error: 0.0455 - mean_absolute_error: 0.1728 - val_loss: 0.0528 - val_mean_squared_error: 0.0528 - val_mean_absolute_error: 0.1939\n",
            "Epoch 78/100\n",
            "2/2 [==============================] - 0s 36ms/step - loss: 0.0456 - mean_squared_error: 0.0456 - mean_absolute_error: 0.1732 - val_loss: 0.0507 - val_mean_squared_error: 0.0507 - val_mean_absolute_error: 0.1894\n",
            "Epoch 79/100\n",
            "2/2 [==============================] - 0s 37ms/step - loss: 0.0440 - mean_squared_error: 0.0440 - mean_absolute_error: 0.1686 - val_loss: 0.0513 - val_mean_squared_error: 0.0513 - val_mean_absolute_error: 0.1904\n",
            "Epoch 80/100\n",
            "2/2 [==============================] - 0s 35ms/step - loss: 0.0437 - mean_squared_error: 0.0437 - mean_absolute_error: 0.1680 - val_loss: 0.0523 - val_mean_squared_error: 0.0523 - val_mean_absolute_error: 0.1926\n",
            "Epoch 81/100\n",
            "2/2 [==============================] - 0s 39ms/step - loss: 0.0433 - mean_squared_error: 0.0433 - mean_absolute_error: 0.1673 - val_loss: 0.0516 - val_mean_squared_error: 0.0516 - val_mean_absolute_error: 0.1908\n",
            "Epoch 82/100\n",
            "2/2 [==============================] - 0s 39ms/step - loss: 0.0425 - mean_squared_error: 0.0425 - mean_absolute_error: 0.1648 - val_loss: 0.0493 - val_mean_squared_error: 0.0493 - val_mean_absolute_error: 0.1865\n",
            "Epoch 83/100\n",
            "2/2 [==============================] - 0s 52ms/step - loss: 0.0423 - mean_squared_error: 0.0423 - mean_absolute_error: 0.1625 - val_loss: 0.0486 - val_mean_squared_error: 0.0486 - val_mean_absolute_error: 0.1847\n",
            "Epoch 84/100\n",
            "2/2 [==============================] - 0s 52ms/step - loss: 0.0418 - mean_squared_error: 0.0418 - mean_absolute_error: 0.1609 - val_loss: 0.0495 - val_mean_squared_error: 0.0495 - val_mean_absolute_error: 0.1867\n",
            "Epoch 85/100\n",
            "2/2 [==============================] - 0s 39ms/step - loss: 0.0413 - mean_squared_error: 0.0413 - mean_absolute_error: 0.1609 - val_loss: 0.0507 - val_mean_squared_error: 0.0507 - val_mean_absolute_error: 0.1898\n",
            "Epoch 86/100\n",
            "2/2 [==============================] - 0s 53ms/step - loss: 0.0411 - mean_squared_error: 0.0411 - mean_absolute_error: 0.1608 - val_loss: 0.0506 - val_mean_squared_error: 0.0506 - val_mean_absolute_error: 0.1898\n",
            "Epoch 87/100\n",
            "2/2 [==============================] - 0s 63ms/step - loss: 0.0404 - mean_squared_error: 0.0404 - mean_absolute_error: 0.1587 - val_loss: 0.0488 - val_mean_squared_error: 0.0488 - val_mean_absolute_error: 0.1854\n",
            "Epoch 88/100\n",
            "2/2 [==============================] - 0s 53ms/step - loss: 0.0402 - mean_squared_error: 0.0402 - mean_absolute_error: 0.1564 - val_loss: 0.0477 - val_mean_squared_error: 0.0477 - val_mean_absolute_error: 0.1820\n",
            "Epoch 89/100\n",
            "2/2 [==============================] - 0s 38ms/step - loss: 0.0398 - mean_squared_error: 0.0398 - mean_absolute_error: 0.1554 - val_loss: 0.0482 - val_mean_squared_error: 0.0482 - val_mean_absolute_error: 0.1835\n",
            "Epoch 90/100\n",
            "2/2 [==============================] - 0s 55ms/step - loss: 0.0394 - mean_squared_error: 0.0394 - mean_absolute_error: 0.1552 - val_loss: 0.0497 - val_mean_squared_error: 0.0497 - val_mean_absolute_error: 0.1881\n",
            "Epoch 91/100\n",
            "2/2 [==============================] - 0s 37ms/step - loss: 0.0391 - mean_squared_error: 0.0391 - mean_absolute_error: 0.1557 - val_loss: 0.0498 - val_mean_squared_error: 0.0498 - val_mean_absolute_error: 0.1883\n",
            "Epoch 92/100\n",
            "2/2 [==============================] - 0s 54ms/step - loss: 0.0385 - mean_squared_error: 0.0385 - mean_absolute_error: 0.1540 - val_loss: 0.0480 - val_mean_squared_error: 0.0480 - val_mean_absolute_error: 0.1837\n",
            "Epoch 93/100\n",
            "2/2 [==============================] - 0s 53ms/step - loss: 0.0384 - mean_squared_error: 0.0384 - mean_absolute_error: 0.1519 - val_loss: 0.0465 - val_mean_squared_error: 0.0465 - val_mean_absolute_error: 0.1781\n",
            "Epoch 94/100\n",
            "2/2 [==============================] - 0s 57ms/step - loss: 0.0385 - mean_squared_error: 0.0385 - mean_absolute_error: 0.1525 - val_loss: 0.0469 - val_mean_squared_error: 0.0469 - val_mean_absolute_error: 0.1797\n",
            "Epoch 95/100\n",
            "2/2 [==============================] - 0s 35ms/step - loss: 0.0374 - mean_squared_error: 0.0374 - mean_absolute_error: 0.1499 - val_loss: 0.0496 - val_mean_squared_error: 0.0496 - val_mean_absolute_error: 0.1883\n",
            "Epoch 96/100\n",
            "2/2 [==============================] - 0s 45ms/step - loss: 0.0374 - mean_squared_error: 0.0374 - mean_absolute_error: 0.1507 - val_loss: 0.0512 - val_mean_squared_error: 0.0512 - val_mean_absolute_error: 0.1920\n",
            "Epoch 97/100\n",
            "2/2 [==============================] - 0s 40ms/step - loss: 0.0372 - mean_squared_error: 0.0372 - mean_absolute_error: 0.1502 - val_loss: 0.0488 - val_mean_squared_error: 0.0488 - val_mean_absolute_error: 0.1866\n",
            "Epoch 98/100\n",
            "2/2 [==============================] - 0s 59ms/step - loss: 0.0365 - mean_squared_error: 0.0365 - mean_absolute_error: 0.1473 - val_loss: 0.0467 - val_mean_squared_error: 0.0467 - val_mean_absolute_error: 0.1801\n",
            "Epoch 99/100\n",
            "2/2 [==============================] - 0s 38ms/step - loss: 0.0362 - mean_squared_error: 0.0362 - mean_absolute_error: 0.1467 - val_loss: 0.0460 - val_mean_squared_error: 0.0460 - val_mean_absolute_error: 0.1774\n",
            "Epoch 100/100\n",
            "2/2 [==============================] - 0s 53ms/step - loss: 0.0361 - mean_squared_error: 0.0361 - mean_absolute_error: 0.1459 - val_loss: 0.0468 - val_mean_squared_error: 0.0468 - val_mean_absolute_error: 0.1808\n",
            "1/1 [==============================] - 0s 29ms/step - loss: 0.0468 - mean_squared_error: 0.0468 - mean_absolute_error: 0.1808\n",
            "Mean Squared Error: 0.04678180813789368\n",
            "Mean Absolute Error: 0.18078307807445526\n"
          ]
        }
      ]
    },
    {
      "cell_type": "code",
      "source": [
        "# Obtener las métricas de entrenamiento\n",
        "train_mse = history.history['mean_squared_error']\n",
        "train_mae = history.history['mean_absolute_error']\n",
        "val_mse = history.history['val_mean_squared_error']\n",
        "val_mae = history.history['val_mean_absolute_error']\n",
        "\n",
        "\n",
        "\n"
      ],
      "metadata": {
        "id": "I4wtB3ofuL0h"
      },
      "execution_count": 95,
      "outputs": []
    },
    {
      "cell_type": "markdown",
      "source": [
        "5. *Evaluación del modelo*"
      ],
      "metadata": {
        "id": "oa9I_MUJWQ5L"
      }
    },
    {
      "cell_type": "code",
      "source": [
        "import matplotlib.pyplot as plt\n",
        "\n",
        "# Obtener las predicciones del modelo en el conjunto de prueba\n",
        "predictions = model.predict(X_test)\n",
        "\n",
        "# Graficar las predicciones frente a los valores reales\n",
        "plt.scatter(y_test['VisAcuOD'], predictions[:, 0], label='OD')\n",
        "plt.scatter(y_test['VisAcuOS'], predictions[:, 1], label='OS')\n",
        "plt.xlabel('Valor Real')\n",
        "plt.ylabel('Predicción')\n",
        "plt.legend()\n",
        "plt.show()\n"
      ],
      "metadata": {
        "colab": {
          "base_uri": "https://localhost:8080/",
          "height": 466
        },
        "id": "no_nErwr1Gt1",
        "outputId": "0a203ea3-9a67-4e2a-e610-7b3e1b0c1a45"
      },
      "execution_count": 96,
      "outputs": [
        {
          "output_type": "stream",
          "name": "stdout",
          "text": [
            "1/1 [==============================] - 0s 57ms/step\n"
          ]
        },
        {
          "output_type": "display_data",
          "data": {
            "text/plain": [
              "<Figure size 640x480 with 1 Axes>"
            ],
            "image/png": "[encoded data removed]"
          },
          "metadata": {}
        }
      ]
    },
    {
      "cell_type": "code",
      "source": [
        "# Obtener las predicciones del modelo en el conjunto de prueba\n",
        "predictions = model.predict(X_test)\n",
        "\n",
        "# Calcular los errores de predicción\n",
        "errors = np.abs(predictions - y_test.values)\n",
        "\n",
        "# Calcular el error promedio para cada instancia de prueba\n",
        "mean_errors = np.mean(errors, axis=1)\n",
        "\n",
        "# Crear un gráfico de dispersión de los errores de predicción\n",
        "plt.scatter(range(len(mean_errors)), mean_errors)\n",
        "plt.xlabel('Instancia de prueba')\n",
        "plt.ylabel('Error de predicción')\n",
        "plt.title('Errores de predicción promedio')\n",
        "plt.show()"
      ],
      "metadata": {
        "id": "Dwz4wmYr1LhG",
        "colab": {
          "base_uri": "https://localhost:8080/",
          "height": 489
        },
        "outputId": "349c3edf-de6e-4635-84ce-38c69a3b9588"
      },
      "execution_count": 97,
      "outputs": [
        {
          "output_type": "stream",
          "name": "stdout",
          "text": [
            "1/1 [==============================] - 0s 23ms/step\n"
          ]
        },
        {
          "output_type": "display_data",
          "data": {
            "text/plain": [
              "<Figure size 640x480 with 1 Axes>"
            ],
            "image/png": "[encoded data removed]"
          },
          "metadata": {}
        }
      ]
    },
    {
      "cell_type": "code",
      "source": [
        "# Normalizar los datos\n",
        "scaler = MinMaxScaler()\n",
        "features_normalized = scaler.fit_transform(features)\n",
        "# Definir el número de divisiones (k) para la validación cruzada\n",
        "k = 5\n",
        "\n",
        "# Crear los conjuntos de entrenamiento y prueba usando validación cruzada\n",
        "kf = KFold(n_splits=k, shuffle=True, random_state=42)\n",
        "\n",
        "# Listas para almacenar las métricas de evaluación en cada iteración de validación cruzada\n",
        "mse_scores = []\n",
        "mae_scores = []\n",
        "\n",
        "# Iterar sobre los conjuntos de entrenamiento y prueba generados por la validación cruzada\n",
        "for train_index, test_index in kf.split(features_normalized):\n",
        "    X_train, X_test = features_normalized[train_index], features_normalized[test_index]\n",
        "    y_train, y_test = labels.iloc[train_index], labels.iloc[test_index]\n",
        "\n",
        "    # Construir y entrenar el modelo\n",
        "    model = Sequential()\n",
        "    model.add(Dense(100, activation='relu', input_shape=(9,)))\n",
        "    model.add(Dense(42, activation='relu'))\n",
        "    model.add(Dense(2))\n",
        "    model.compile(optimizer=Adam(), loss='mse', metrics=[MeanSquaredError(), MeanAbsoluteError()])\n",
        "    model.fit(X_train, y_train, epochs=100, batch_size=42, verbose=0)\n",
        "\n",
        "    # Evaluar el modelo en el conjunto de prueba\n",
        "    loss, mse, mae = model.evaluate(X_test, y_test, verbose=0)\n",
        "\n",
        "    # Almacenar las métricas de evaluación\n",
        "    mse_scores.append(mse)\n",
        "    mae_scores.append(mae)\n",
        "\n",
        "# Calcular la media y desviación estándar de las métricas de evaluación\n",
        "mean_mse = np.mean(mse_scores)\n",
        "std_mse = np.std(mse_scores)\n",
        "mean_mae = np.mean(mae_scores)\n",
        "std_mae = np.std(mae_scores)\n",
        "\n",
        "# Imprimir los resultados\n",
        "print(\"Mean Squared Error (MSE) - Mean:\", mean_mse, \"Std:\", std_mse)\n",
        "print(\"Mean Absolute Error (MAE) - Mean:\", mean_mae, \"Std:\", std_mae)\n"
      ],
      "metadata": {
        "colab": {
          "base_uri": "https://localhost:8080/"
        },
        "id": "K5mk3CrOJ54F",
        "outputId": "62ff84b1-bd9e-4414-8cb2-9171a8e32f27"
      },
      "execution_count": 99,
      "outputs": [
        {
          "output_type": "stream",
          "name": "stderr",
          "text": [
            "WARNING:tensorflow:5 out of the last 105 calls to <function Model.make_test_function.<locals>.test_function at 0x7f4af21cfe20> triggered tf.function retracing. Tracing is expensive and the excessive number of tracings could be due to (1) creating @tf.function repeatedly in a loop, (2) passing tensors with different shapes, (3) passing Python objects instead of tensors. For (1), please define your @tf.function outside of the loop. For (2), @tf.function has reduce_retracing=True option that can avoid unnecessary retracing. For (3), please refer to https://www.tensorflow.org/guide/function#controlling_retracing and https://www.tensorflow.org/api_docs/python/tf/function for  more details.\n",
            "WARNING:tensorflow:6 out of the last 106 calls to <function Model.make_test_function.<locals>.test_function at 0x7f4aeafdb010> triggered tf.function retracing. Tracing is expensive and the excessive number of tracings could be due to (1) creating @tf.function repeatedly in a loop, (2) passing tensors with different shapes, (3) passing Python objects instead of tensors. For (1), please define your @tf.function outside of the loop. For (2), @tf.function has reduce_retracing=True option that can avoid unnecessary retracing. For (3), please refer to https://www.tensorflow.org/guide/function#controlling_retracing and https://www.tensorflow.org/api_docs/python/tf/function for  more details.\n"
          ]
        },
        {
          "output_type": "stream",
          "name": "stdout",
          "text": [
            "Mean Squared Error (MSE) - Mean: 0.0765093870460987 Std: 0.016495953726404514\n",
            "Mean Absolute Error (MAE) - Mean: 0.22833346128463744 Std: 0.022709935231082414\n"
          ]
        }
      ]
    },
    {
      "cell_type": "markdown",
      "source": [
        "Error cuadrático medio (MSE) bajo: Un MSE promedio de 0.0765 indica que, en promedio, las predicciones del modelo tienen un error cuadrático medio relativamente bajo en comparación con los valores reales de la agudeza visual. Esto sugiere que el modelo es capaz de ajustarse adecuadamente a los datos y realizar predicciones cercanas a los valores reales. Un bajo MSE es deseable en este proyecto, ya que implica una buena capacidad del modelo para predecir con precisión la agudeza visual.\n",
        "\n",
        "Error absoluto medio (MAE) bajo: Un MAE promedio de 0.2283 significa que, en promedio, las predicciones del modelo tienen un error absoluto medio relativamente bajo en comparación con los valores reales. Esto indica que el modelo tiende a cometer errores menores en sus predicciones. Un bajo MAE es beneficioso en el contexto del proyecto, ya que implica una buena precisión en la predicción de la agudeza visual.\n",
        "\n",
        "Bajas desviaciones estándar: Las desviaciones estándar de 0.0165 para MSE y 0.0227 para MAE indican que las medidas de error tienen una dispersión relativamente baja alrededor de sus promedios. Esto sugiere que el modelo es consistente en su rendimiento en diferentes conjuntos de datos y evita fluctuaciones significativas en las predicciones. Una baja variabilidad en las medidas de error es valiosa, ya que indica una estabilidad en el rendimiento del modelo.\n",
        "\n",
        "En general, estos resultados de la validación cruzada indican que el modelo de redes neuronales tiene un buen desempeño en la predicción de la agudeza visual para el proyecto. La combinación de un bajo MSE, un bajo MAE y bajas desviaciones estándar sugiere que el modelo es preciso, estable y capaz de realizar predicciones confiables."
      ],
      "metadata": {
        "id": "kpyAW34HUN_a"
      }
    },
    {
      "cell_type": "code",
      "source": [
        "# Datos de validación cruzada\n",
        "mse_mean = 0.0765093870460987\n",
        "mse_std = 0.016495953726404514\n",
        "mae_mean = 0.22833346128463744\n",
        "mae_std = 0.022709935231082414\n",
        "\n",
        "# Configuración del gráfico\n",
        "labels = ['MSE', 'MAE']\n",
        "means = [mse_mean, mae_mean]\n",
        "stds = [mse_std, mae_std]\n",
        "\n",
        "x = range(len(labels))\n",
        "width = 0.35\n",
        "\n",
        "# Crear el gráfico de barras\n",
        "fig, ax = plt.subplots()\n",
        "rects1 = ax.bar(x, means, width, yerr=stds, label='Mean', alpha=0.7)\n",
        "\n",
        "# Etiquetas y título\n",
        "ax.set_xlabel('Metric')\n",
        "ax.set_ylabel('Value')\n",
        "ax.set_title('Mean Squared Error (MSE) and Mean Absolute Error (MAE)')\n",
        "ax.set_xticks(x)\n",
        "ax.set_xticklabels(labels)\n",
        "ax.legend()\n",
        "\n",
        "# Mostrar el gráfico\n",
        "plt.show()"
      ],
      "metadata": {
        "colab": {
          "base_uri": "https://localhost:8080/",
          "height": 472
        },
        "id": "vZxTyMpMPROR",
        "outputId": "d958110e-cb89-40d8-8cc7-1c92bb00b7c3"
      },
      "execution_count": 100,
      "outputs": [
        {
          "output_type": "display_data",
          "data": {
            "text/plain": [
              "<Figure size 640x480 with 1 Axes>"
            ],
            "image/png": "[encoded data removed]"
          },
          "metadata": {}
        }
      ]
    },
    {
      "cell_type": "code",
      "source": [
        "# Obtener las predicciones del modelo en el conjunto de prueba\n",
        "y_pred = model.predict(X_test)\n",
        "\n",
        "# Extraer los valores de agudeza visual predichos para cada ojo\n",
        "pred_od = y_pred[:, 0]\n",
        "pred_os = y_pred[:, 1]\n",
        "\n",
        "# Crear el gráfico de dispersión\n",
        "plt.scatter(y_test['VisAcuOD'], pred_od, color='blue', label='OD')\n",
        "plt.scatter(y_test['VisAcuOS'], pred_os, color='red', label='OS')\n",
        "\n",
        "# Línea de referencia (predicción perfecta)\n",
        "plt.plot([0, 1], [0, 1], color='black', linestyle='--')\n",
        "\n",
        "# Etiquetas y título del gráfico\n",
        "plt.xlabel('True Value')\n",
        "plt.ylabel('Predicted Value')\n",
        "plt.title('Scatter Plot of True vs Predicted Visual Acuity')\n",
        "\n",
        "# Leyenda\n",
        "plt.legend()\n",
        "\n",
        "# Mostrar el gráfico\n",
        "plt.show()"
      ],
      "metadata": {
        "colab": {
          "base_uri": "https://localhost:8080/",
          "height": 489
        },
        "id": "JQu2pp3RVbCz",
        "outputId": "27251b92-d7e5-4b2c-ba17-b4926752e3f0"
      },
      "execution_count": 107,
      "outputs": [
        {
          "output_type": "stream",
          "name": "stdout",
          "text": [
            "1/1 [==============================] - 0s 21ms/step\n"
          ]
        },
        {
          "output_type": "display_data",
          "data": {
            "text/plain": [
              "<Figure size 640x480 with 1 Axes>"
            ],
            "image/png": "[encoded data removed]"
          },
          "metadata": {}
        }
      ]
    },
    {
      "cell_type": "markdown",
      "source": [
        "Como podemos observar en el grafico de entrenamiento, aún presentamos fallas en el modelo, pero podemos seguir trabajando en ello, por lo que se consideraria un avance significativo para nuestro modelo."
      ],
      "metadata": {
        "id": "Wzf7VyvtUNwU"
      }
    },
    {
      "cell_type": "markdown",
      "source": [
        "6. *Despliegue del modelo*"
      ],
      "metadata": {
        "id": "TnrNLdCyWblG"
      }
    },
    {
      "cell_type": "code",
      "source": [
        "# Actualmente no tenemos una plataforma desarrollada exclusivamente para este modelo beta, pero lo colocaremos en un repositorio\n",
        "# De github para su constante modificacion y avance, además cabe destacar que la data obtenida a través de https://public.jaeb.org/pedig/stdy\n",
        "# Y otros archivos que ayuden a la comprensión del proyecto\n",
        "# Modelo guardado\n",
        "\n",
        "model.save('modelo_ia.h5')\n",
        "\n",
        "# from tensorflow.keras.models import load_model\n",
        "\n",
        "# Cargar el modelo previamente entrenado\n",
        "# model = load_model('modelo_ia.h5')\n",
        "\n"
      ],
      "metadata": {
        "id": "Fkj11Zc9Vbqb"
      },
      "execution_count": 109,
      "outputs": []
    },
    {
      "cell_type": "code",
      "source": [],
      "metadata": {
        "id": "DhMeP4hXW9vT"
      },
      "execution_count": null,
      "outputs": []
    }
  ]
}